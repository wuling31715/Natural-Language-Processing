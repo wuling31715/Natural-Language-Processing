{
 "cells": [
  {
   "cell_type": "markdown",
   "metadata": {},
   "source": [
    "# 1.4.1 Loading Datasets"
   ]
  },
  {
   "cell_type": "code",
   "execution_count": 1,
   "metadata": {},
   "outputs": [],
   "source": [
    "import numpy as np\n",
    "import matplotlib.pyplot as plt"
   ]
  },
  {
   "cell_type": "code",
   "execution_count": 2,
   "metadata": {},
   "outputs": [],
   "source": [
    "class Spiral:\n",
    "    def load_data(seed=1984):\n",
    "        np.random.seed()\n",
    "        N = 100  \n",
    "        DIM = 2  \n",
    "        CLS_NUM = 3 \n",
    "\n",
    "        x = np.zeros((N*CLS_NUM, DIM)) # 輸入資料\n",
    "        t = np.zeros((N*CLS_NUM, CLS_NUM), dtype=np.int) # 標籤資料\n",
    "\n",
    "        for j in range(CLS_NUM):\n",
    "            for i in range(N):\n",
    "                rate = i / N\n",
    "                radius = 1.0*rate\n",
    "                theta = j*4.0 + 4.0*rate + np.random.randn()*0.2\n",
    "\n",
    "                ix = N*j + i\n",
    "                x[ix] = np.array([radius*np.sin(theta),\n",
    "                                  radius*np.cos(theta)]).flatten()\n",
    "                t[ix, j] = 1\n",
    "\n",
    "        return x, t"
   ]
  },
  {
   "cell_type": "code",
   "execution_count": 3,
   "metadata": {},
   "outputs": [
    {
     "name": "stdout",
     "output_type": "stream",
     "text": [
      "x: (300, 2)\n",
      "t: (300, 3)\n"
     ]
    },
    {
     "data": {
      "image/png": "[encoded data removed]",
      "text/plain": [
       "<Figure size 432x288 with 1 Axes>"
      ]
     },
     "metadata": {
      "needs_background": "light"
     },
     "output_type": "display_data"
    }
   ],
   "source": [
    "spiral = Spiral()\n",
    "x, t = spiral.load_data()\n",
    "print('x:', x.shape)  \n",
    "print('t:', t.shape)  \n",
    "\n",
    "N = 100\n",
    "CLS_NUM = 3\n",
    "markers = ['o', 'x', '^']\n",
    "\n",
    "for i in range(CLS_NUM):\n",
    "    plt.scatter(x[i*N:(i+1)*N, 0], x[i*N:(i+1)*N, 1], s=40, marker=markers[i])\n",
    "plt.show()"
   ]
  },
  {
   "cell_type": "markdown",
   "metadata": {},
   "source": [
    "# 1.4.2 Building Neural Network"
   ]
  },
  {
   "cell_type": "code",
   "execution_count": 4,
   "metadata": {},
   "outputs": [],
   "source": [
    "class Affine:\n",
    "    def __init__(self, W, b):\n",
    "        self.params = [W, b]\n",
    "        self.grads = [np.zeros_like(W), np.zeros_like(b)]\n",
    "        self.x = None\n",
    "\n",
    "    def forward(self, x):\n",
    "        W, b = self.params\n",
    "        out = np.dot(x, W) + b\n",
    "        self.x = x\n",
    "        return out\n",
    "\n",
    "    def backward(self, dout):\n",
    "        W, b = self.params\n",
    "        dx = np.dot(dout, W.T)\n",
    "        dW = np.dot(self.x.T, dout)\n",
    "        db = np.sum(dout, axis=0)\n",
    "\n",
    "        self.grads[0][...] = dW\n",
    "        self.grads[1][...] = db\n",
    "        return dx"
   ]
  },
  {
   "cell_type": "code",
   "execution_count": 5,
   "metadata": {},
   "outputs": [],
   "source": [
    "class Sigmoid:\n",
    "    def __init__(self):\n",
    "        self.params = list()\n",
    "        self.grads = list()\n",
    "        self.out = None\n",
    "\n",
    "    def forward(self, x):\n",
    "        out = 1 / (1 + np.exp(-x))\n",
    "        self.out = out\n",
    "        return out\n",
    "\n",
    "    def backward(self, dout):\n",
    "        dx = dout * (1.0 - self.out) * self.out\n",
    "        return dx"
   ]
  },
  {
   "cell_type": "code",
   "execution_count": 6,
   "metadata": {},
   "outputs": [],
   "source": [
    "def softmax(x):\n",
    "    if x.ndim == 2:\n",
    "        x = x - x.max(axis=1, keepdims=True)\n",
    "        x = np.exp(x)\n",
    "        x /= x.sum(axis=1, keepdims=True)\n",
    "    elif x.ndim == 1:\n",
    "        x = x - np.max(x)\n",
    "        x = np.exp(x) / np.sum(np.exp(x))\n",
    "    return x"
   ]
  },
  {
   "cell_type": "code",
   "execution_count": 7,
   "metadata": {},
   "outputs": [],
   "source": [
    "def cross_entropy_error(y, t):\n",
    "    if y.ndim == 1:\n",
    "        t = t.reshape(1, t.size)\n",
    "        y = y.reshape(1, y.size)\n",
    "        \n",
    "    if t.size == y.size:\n",
    "        t = t.argmax(axis=1)\n",
    "             \n",
    "    batch_size = y.shape[0]\n",
    "\n",
    "    return -np.sum(np.log(y[np.arange(batch_size), t] + 1e-7)) / batch_size"
   ]
  },
  {
   "cell_type": "code",
   "execution_count": 8,
   "metadata": {},
   "outputs": [],
   "source": [
    "class SoftmaxWithLoss:\n",
    "    def __init__(self):\n",
    "        self.params = list()\n",
    "        self.grads = list()\n",
    "        self.y = None  \n",
    "        self.t = None  \n",
    "\n",
    "    def forward(self, x, t):\n",
    "        self.t = t\n",
    "        self.y = softmax(x)\n",
    "\n",
    "        if self.t.size == self.y.size:\n",
    "            self.t = self.t.argmax(axis=1)\n",
    "\n",
    "        loss = cross_entropy_error(self.y, self.t)\n",
    "        return loss\n",
    "\n",
    "    def backward(self, dout=1):\n",
    "        batch_size = self.t.shape[0]\n",
    "\n",
    "        dx = self.y.copy()\n",
    "        dx[np.arange(batch_size), self.t] -= 1\n",
    "        dx *= dout\n",
    "        dx = dx / batch_size\n",
    "\n",
    "        return dx"
   ]
  },
  {
   "cell_type": "code",
   "execution_count": 9,
   "metadata": {},
   "outputs": [],
   "source": [
    "class TwoLayerNet:\n",
    "    def __init__(self, input_size, hidden_size, output_size):\n",
    "        I, H, O = input_size, hidden_size, output_size\n",
    "\n",
    "        W1 = 0.01 * np.random.randn(I, H)\n",
    "        b1 = np.zeros(H)\n",
    "        W2 = 0.01 * np.random.randn(H, O)\n",
    "        b2 = np.zeros(O)\n",
    "\n",
    "        self.layers = [\n",
    "            Affine(W1, b1),\n",
    "            Sigmoid(),\n",
    "            Affine(W2, b2)\n",
    "        ]\n",
    "        self.loss_layer = SoftmaxWithLoss()\n",
    "\n",
    "        self.params = list()\n",
    "        self.grads = list()\n",
    "        for layer in self.layers:\n",
    "            self.params += layer.params\n",
    "            self.grads += layer.grads\n",
    "\n",
    "    def predict(self, x):\n",
    "        for layer in self.layers:\n",
    "            x = layer.forward(x)\n",
    "        return x\n",
    "\n",
    "    def forward(self, x, t):\n",
    "        score = self.predict(x)\n",
    "        loss = self.loss_layer.forward(score, t)\n",
    "        return loss\n",
    "\n",
    "    def backward(self, dout=1):\n",
    "        dout = self.loss_layer.backward(dout)\n",
    "        for layer in reversed(self.layers):\n",
    "            dout = layer.backward(dout)\n",
    "        return dout"
   ]
  },
  {
   "cell_type": "code",
   "execution_count": 10,
   "metadata": {},
   "outputs": [],
   "source": [
    "class SGD:\n",
    "    def __init__(self, lr=0.01):\n",
    "        self.lr = lr\n",
    "        \n",
    "    def update(self, params, grads):\n",
    "        for i in range(len(params)):\n",
    "            params[i] -= self.lr * grads[i]"
   ]
  },
  {
   "cell_type": "markdown",
   "metadata": {},
   "source": [
    "# 1.4.3 Training Neural Network"
   ]
  },
  {
   "cell_type": "code",
   "execution_count": 11,
   "metadata": {},
   "outputs": [
    {
     "name": "stdout",
     "output_type": "stream",
     "text": [
      "| epoch 1         | iter 10 / 10        | loss1.2065297321679165\n",
      "| epoch 11        | iter 10 / 10        | loss1.1869537214367518\n",
      "| epoch 21        | iter 10 / 10        | loss1.141965863634083\n",
      "| epoch 31        | iter 10 / 10        | loss1.122282463592005\n",
      "| epoch 41        | iter 10 / 10        | loss1.1573770136431785\n",
      "| epoch 51        | iter 10 / 10        | loss1.1168077046063973\n",
      "| epoch 61        | iter 10 / 10        | loss1.136172904670563\n",
      "| epoch 71        | iter 10 / 10        | loss1.1145484769855105\n",
      "| epoch 81        | iter 10 / 10        | loss1.1164612262268478\n",
      "| epoch 91        | iter 10 / 10        | loss1.1260076830075436\n",
      "| epoch 101       | iter 10 / 10        | loss1.0899380600156805\n",
      "| epoch 111       | iter 10 / 10        | loss1.0594064850395557\n",
      "| epoch 121       | iter 10 / 10        | loss1.0460009938819321\n",
      "| epoch 131       | iter 10 / 10        | loss0.9883881971763679\n",
      "| epoch 141       | iter 10 / 10        | loss0.9521058156730635\n",
      "| epoch 151       | iter 10 / 10        | loss0.9385642917020263\n",
      "| epoch 161       | iter 10 / 10        | loss0.8729143939250891\n",
      "| epoch 171       | iter 10 / 10        | loss0.8373750431588662\n",
      "| epoch 181       | iter 10 / 10        | loss0.8271179950905678\n",
      "| epoch 191       | iter 10 / 10        | loss0.7935531514599429\n",
      "| epoch 201       | iter 10 / 10        | loss0.785092446506158\n",
      "| epoch 211       | iter 10 / 10        | loss0.7735371669243091\n",
      "| epoch 221       | iter 10 / 10        | loss0.7877225080753958\n",
      "| epoch 231       | iter 10 / 10        | loss0.7788737387343584\n",
      "| epoch 241       | iter 10 / 10        | loss0.7558901898883823\n",
      "| epoch 251       | iter 10 / 10        | loss0.7780900937048503\n",
      "| epoch 261       | iter 10 / 10        | loss0.760304707989939\n",
      "| epoch 271       | iter 10 / 10        | loss0.7613182049445693\n",
      "| epoch 281       | iter 10 / 10        | loss0.7465874090493948\n",
      "| epoch 291       | iter 10 / 10        | loss0.7498062042418687\n"
     ]
    },
    {
     "data": {
      "image/png": "[encoded data removed]",
      "text/plain": [
       "<Figure size 432x288 with 1 Axes>"
      ]
     },
     "metadata": {
      "needs_background": "light"
     },
     "output_type": "display_data"
    },
    {
     "data": {
      "image/png": "[encoded data removed]",
      "text/plain": [
       "<Figure size 432x288 with 1 Axes>"
      ]
     },
     "metadata": {
      "needs_background": "light"
     },
     "output_type": "display_data"
    }
   ],
   "source": [
    "max_epoch = 300\n",
    "batch_size = 30\n",
    "hidden_size = 10\n",
    "learning_rate = 1.0\n",
    "\n",
    "x, t = spiral.load_data()\n",
    "model = TwoLayerNet(input_size=2, hidden_size=hidden_size, output_size=3)\n",
    "optimizer = SGD(lr=learning_rate)\n",
    "\n",
    "data_size = len(x)\n",
    "max_iters = data_size // batch_size\n",
    "total_loss = 0\n",
    "loss_count = 0\n",
    "loss_list = []\n",
    "\n",
    "for epoch in range(max_epoch):\n",
    "    if epoch % 10 == 0:\n",
    "        idx = np.random.permutation(data_size)\n",
    "        x = x[idx]\n",
    "        t = t[idx]\n",
    "\n",
    "        for iters in range(max_iters):\n",
    "            batch_x = x[iters*batch_size:(iters+1)*batch_size]\n",
    "            batch_t = t[iters*batch_size:(iters+1)*batch_size]\n",
    "\n",
    "            loss = model.forward(batch_x, batch_t)\n",
    "            model.backward()\n",
    "            optimizer.update(model.params, model.grads)\n",
    "\n",
    "            total_loss += loss\n",
    "            loss_count += 1\n",
    "\n",
    "            if (iters+1) % 10 == 0:\n",
    "                avg_loss = total_loss / loss_count\n",
    "    #             print('| epoch %d |  iter %d / %d | loss %.2f' % (epoch + 1, iters + 1, max_iters, avg_loss))\n",
    "                print('| epoch {:<10}| iter {} / {:<10}| loss{:<10}'.format(epoch + 1, iters + 1, max_iters, avg_loss))\n",
    "                loss_list.append(avg_loss)\n",
    "                total_loss = 0\n",
    "                loss_count = 0\n",
    "\n",
    "plt.plot(np.arange(len(loss_list)), loss_list, label='train')\n",
    "plt.xlabel('iterations (x10)')\n",
    "plt.ylabel('loss')\n",
    "plt.show()\n",
    "\n",
    "h = 0.001\n",
    "x_min, x_max = x[:, 0].min() - .1, x[:, 0].max() + .1\n",
    "y_min, y_max = x[:, 1].min() - .1, x[:, 1].max() + .1\n",
    "xx, yy = np.meshgrid(np.arange(x_min, x_max, h), np.arange(y_min, y_max, h))\n",
    "X = np.c_[xx.ravel(), yy.ravel()]\n",
    "score = model.predict(X)\n",
    "predict_cls = np.argmax(score, axis=1)\n",
    "Z = predict_cls.reshape(xx.shape)\n",
    "plt.contourf(xx, yy, Z)\n",
    "plt.axis('off')\n",
    "\n",
    "x, t = spiral.load_data()\n",
    "N = 100\n",
    "CLS_NUM = 3\n",
    "markers = ['o', 'x', '^']\n",
    "for i in range(CLS_NUM):\n",
    "    plt.scatter(x[i*N:(i+1)*N, 0], x[i*N:(i+1)*N, 1], s=40, marker=markers[i])\n",
    "plt.show()"
   ]
  },
  {
   "cell_type": "markdown",
   "metadata": {},
   "source": [
    "# 1.4.4 Trainer Class"
   ]
  },
  {
   "cell_type": "code",
   "execution_count": 12,
   "metadata": {},
   "outputs": [],
   "source": [
    "import time"
   ]
  },
  {
   "cell_type": "code",
   "execution_count": 13,
   "metadata": {},
   "outputs": [],
   "source": [
    "def remove_duplicate(params, grads):\n",
    "    params, grads = params[:], grads[:]  \n",
    "\n",
    "    while True:\n",
    "        find_flg = False\n",
    "        L = len(params)\n",
    "\n",
    "        for i in range(0, L - 1):\n",
    "            for j in range(i + 1, L):\n",
    "                if params[i] is params[j]:\n",
    "                    grads[i] += grads[j]  \n",
    "                    find_flg = True\n",
    "                    params.pop(j)\n",
    "                    grads.pop(j)\n",
    "                elif params[i].ndim == 2 and params[j].ndim == 2 and \\\n",
    "                     params[i].T.shape == params[j].shape and np.all(params[i].T == params[j]):\n",
    "                    grads[i] += grads[j].T\n",
    "                    find_flg = True\n",
    "                    params.pop(j)\n",
    "                    grads.pop(j)\n",
    "\n",
    "                if find_flg: break\n",
    "            if find_flg: break\n",
    "\n",
    "        if not find_flg: break\n",
    "\n",
    "    return params, grads"
   ]
  },
  {
   "cell_type": "code",
   "execution_count": 14,
   "metadata": {},
   "outputs": [],
   "source": [
    "class Trainer:\n",
    "    def __init__(self, model, optimizer):\n",
    "        self.model = model\n",
    "        self.optimizer = optimizer\n",
    "        self.loss_list = []\n",
    "        self.eval_interval = None\n",
    "        self.current_epoch = 0\n",
    "\n",
    "    def fit(self, x, t, max_epoch=10, batch_size=32, max_grad=None, eval_interval=20):\n",
    "        data_size = len(x)\n",
    "        max_iters = data_size // batch_size\n",
    "        self.eval_interval = eval_interval\n",
    "        model, optimizer = self.model, self.optimizer\n",
    "        total_loss = 0\n",
    "        loss_count = 0\n",
    "\n",
    "        start_time = time.time()\n",
    "        for epoch in range(max_epoch):\n",
    "            if epoch % 10 == 0:\n",
    "                idx = np.random.permutation(np.arange(data_size))\n",
    "                x = x[idx]\n",
    "                t = t[idx]\n",
    "\n",
    "                for iters in range(max_iters):\n",
    "                    batch_x = x[iters*batch_size:(iters+1)*batch_size]\n",
    "                    batch_t = t[iters*batch_size:(iters+1)*batch_size]\n",
    "\n",
    "                    loss = model.forward(batch_x, batch_t)\n",
    "                    model.backward()\n",
    "                    params, grads = remove_duplicate(model.params, model.grads)\n",
    "                    if max_grad is not None:\n",
    "                        clip_grads(grads, max_grad)\n",
    "                    optimizer.update(params, grads)\n",
    "                    total_loss += loss\n",
    "                    loss_count += 1\n",
    "\n",
    "                    if (eval_interval is not None) and (iters % eval_interval) == 0:\n",
    "                        avg_loss = total_loss / loss_count\n",
    "                        elapsed_time = time.time() - start_time\n",
    "#                         print('| epoch %d |  iter %d / %d | time %d[s] | loss %.2f' % (self.current_epoch + 1, iters + 1, max_iters, elapsed_time, avg_loss))\n",
    "                        print('| epoch {:<10} |  iter {} / {:<10} | time {:<25} | loss {}'.format(self.current_epoch + 1, iters + 1, max_iters, elapsed_time, avg_loss))\n",
    "                        self.loss_list.append(float(avg_loss))\n",
    "                        total_loss = 0\n",
    "                        loss_count = 0\n",
    "\n",
    "                self.current_epoch += 1\n",
    "            \n",
    "    def plot(self, ylim=None):\n",
    "        x = np.arange(len(self.loss_list))\n",
    "        if ylim is not None:\n",
    "            plt.ylim(*ylim)\n",
    "        plt.plot(x, self.loss_list, label='train')\n",
    "        plt.xlabel('iterations (x' + str(self.eval_interval) + ')')\n",
    "        plt.ylabel('loss')\n",
    "        plt.show()"
   ]
  },
  {
   "cell_type": "code",
   "execution_count": 15,
   "metadata": {},
   "outputs": [
    {
     "name": "stdout",
     "output_type": "stream",
     "text": [
      "| epoch 1          |  iter 1 / 10         | time 0.0015399456024169922     | loss 1.1012100913979093\n",
      "| epoch 2          |  iter 1 / 10         | time 0.020730972290039062      | loss 1.136049867191282\n",
      "| epoch 3          |  iter 1 / 10         | time 0.024857044219970703      | loss 1.2146055242817284\n",
      "| epoch 4          |  iter 1 / 10         | time 0.028489112854003906      | loss 1.1722366141196086\n",
      "| epoch 5          |  iter 1 / 10         | time 0.03241586685180664       | loss 1.1373165244789025\n",
      "| epoch 6          |  iter 1 / 10         | time 0.03523612022399902       | loss 1.1197961206414928\n",
      "| epoch 7          |  iter 1 / 10         | time 0.03796505928039551       | loss 1.123088377084615\n",
      "| epoch 8          |  iter 1 / 10         | time 0.04077410697937012       | loss 1.1173810903209154\n",
      "| epoch 9          |  iter 1 / 10         | time 0.04355502128601074       | loss 1.1200499624469773\n",
      "| epoch 10         |  iter 1 / 10         | time 0.04703998565673828       | loss 1.1234241690857634\n",
      "| epoch 11         |  iter 1 / 10         | time 0.04980111122131348       | loss 1.1197650386678704\n",
      "| epoch 12         |  iter 1 / 10         | time 0.052557945251464844      | loss 1.1005348820970478\n",
      "| epoch 13         |  iter 1 / 10         | time 0.055296897888183594      | loss 1.078213452011546\n",
      "| epoch 14         |  iter 1 / 10         | time 0.058878183364868164      | loss 1.0385126126475033\n",
      "| epoch 15         |  iter 1 / 10         | time 0.06145501136779785       | loss 1.0212023787241038\n",
      "| epoch 16         |  iter 1 / 10         | time 0.0643460750579834        | loss 0.9736935960214875\n",
      "| epoch 17         |  iter 1 / 10         | time 0.067230224609375         | loss 0.9142792786481566\n",
      "| epoch 18         |  iter 1 / 10         | time 0.07032489776611328       | loss 0.8851002799046819\n",
      "| epoch 19         |  iter 1 / 10         | time 0.07323193550109863       | loss 0.8546217180675519\n",
      "| epoch 20         |  iter 1 / 10         | time 0.07615208625793457       | loss 0.8308952969320197\n",
      "| epoch 21         |  iter 1 / 10         | time 0.07906508445739746       | loss 0.8322083201811148\n",
      "| epoch 22         |  iter 1 / 10         | time 0.08164000511169434       | loss 0.7786551506351438\n",
      "| epoch 23         |  iter 1 / 10         | time 0.0843660831451416        | loss 0.8154521104738238\n",
      "| epoch 24         |  iter 1 / 10         | time 0.08747100830078125       | loss 0.7538377655242154\n",
      "| epoch 25         |  iter 1 / 10         | time 0.09073090553283691       | loss 0.7903509297023654\n",
      "| epoch 26         |  iter 1 / 10         | time 0.0933840274810791        | loss 0.7286074891709104\n",
      "| epoch 27         |  iter 1 / 10         | time 0.09599089622497559       | loss 0.7581849327903639\n",
      "| epoch 28         |  iter 1 / 10         | time 0.09860610961914062       | loss 0.74291322138856\n",
      "| epoch 29         |  iter 1 / 10         | time 0.1012120246887207        | loss 0.7305875937889195\n",
      "| epoch 30         |  iter 1 / 10         | time 0.10376405715942383       | loss 0.7510822915835537\n"
     ]
    },
    {
     "data": {
      "image/png": "[encoded data removed]",
      "text/plain": [
       "<Figure size 432x288 with 1 Axes>"
      ]
     },
     "metadata": {
      "needs_background": "light"
     },
     "output_type": "display_data"
    }
   ],
   "source": [
    "max_epoch = 300\n",
    "batch_size = 30\n",
    "hidden_size = 10\n",
    "learning_rate = 1.0\n",
    "\n",
    "x, t = spiral.load_data()\n",
    "model = TwoLayerNet(input_size=2, hidden_size=hidden_size, output_size=3)\n",
    "optimizer = SGD(lr=learning_rate)\n",
    "\n",
    "trainer = Trainer(model, optimizer)\n",
    "trainer.fit(x, t, max_epoch, batch_size, eval_interval=10)\n",
    "trainer.plot()"
   ]
  },
  {
   "cell_type": "code",
   "execution_count": null,
   "metadata": {},
   "outputs": [],
   "source": []
  }
 ],
 "metadata": {
  "kernelspec": {
   "display_name": "Python 3",
   "language": "python",
   "name": "python3"
  },
  "language_info": {
   "codemirror_mode": {
    "name": "ipython",
    "version": 3
   },
   "file_extension": ".py",
   "mimetype": "text/x-python",
   "name": "python",
   "nbconvert_exporter": "python",
   "pygments_lexer": "ipython3",
   "version": "3.6.9"
  }
 },
 "nbformat": 4,
 "nbformat_minor": 2
}
