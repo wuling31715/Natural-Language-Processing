{
 "cells": [
  {
   "cell_type": "markdown",
   "metadata": {},
   "source": [
    "# 1.2.1 Concept of Neural Network"
   ]
  },
  {
   "cell_type": "code",
   "execution_count": 1,
   "metadata": {},
   "outputs": [],
   "source": [
    "import numpy as np"
   ]
  },
  {
   "cell_type": "code",
   "execution_count": 2,
   "metadata": {},
   "outputs": [],
   "source": [
    "def sigmoid(x):\n",
    "    return 1 / (1+np.exp(-x))"
   ]
  },
  {
   "cell_type": "code",
   "execution_count": 3,
   "metadata": {},
   "outputs": [
    {
     "name": "stdout",
     "output_type": "stream",
     "text": [
      "x:\n",
      "[[ 1.54056804 -1.61526592]\n",
      " [ 0.64961739  0.77813595]\n",
      " [-1.05933942 -0.39374068]\n",
      " [ 0.37451013  0.4404055 ]\n",
      " [ 0.38544104  0.37420456]\n",
      " [ 1.80659898 -0.24144267]\n",
      " [ 1.0232331   1.88849452]\n",
      " [-0.42121708  1.96782407]\n",
      " [-0.54842548 -0.4899663 ]\n",
      " [ 0.51043321  1.21374963]]\n",
      "W1:\n",
      "[[-0.07371476 -1.17501217 -1.11046383  1.71681991]\n",
      " [-0.29953074  0.21189501 -0.81575034  2.13153472]]\n",
      "\n",
      "b1:\n",
      "[ 1.97150026  1.09380716 -1.19808039  0.39986931]\n",
      "\n",
      "h:\n",
      "[[ 2.34175944 -1.05864583 -1.59117175 -0.39824819]\n",
      " [ 1.69053824  0.49538195 -2.55422166  3.17376916]\n",
      " [ 2.16752665  2.2551122   0.29947182 -2.25809762]\n",
      " [ 1.81197835  0.74707294 -1.97322127  1.98157537]\n",
      " [ 1.8310018   0.72020133 -1.93135621  1.85923217]\n",
      " [ 1.91064674 -1.08012913 -3.00728627  2.98683098]\n",
      " [ 1.33041072  0.29165838 -3.87488378  6.1819679 ]\n",
      " [ 1.41312639  2.00571446 -2.33558721  3.87120077]\n",
      " [ 2.15868728  1.63439237 -0.18938356 -1.58605864]\n",
      " [ 1.57031848  0.75122943 -2.75501468  3.86334068]]\n",
      "\n",
      "a:\n",
      "[[0.91227699 0.25756832 0.1692191  0.4017333 ]\n",
      " [0.84429493 0.62137346 0.07214338 0.95983514]\n",
      " [0.89729526 0.90509059 0.57431339 0.09465327]\n",
      " [0.85960081 0.67854057 0.12204331 0.878849  ]\n",
      " [0.86188103 0.67265135 0.12660054 0.86520743]\n",
      " [0.87109179 0.25348158 0.04709779 0.95197564]\n",
      " [0.79090857 0.57240208 0.02033467 0.9979379 ]\n",
      " [0.80425859 0.88139576 0.08821822 0.97959183]\n",
      " [0.89647778 0.83677046 0.45279511 0.16993914]\n",
      " [0.82782901 0.67944653 0.05980406 0.9794341 ]]\n",
      "\n",
      "W2:\n",
      "[[-0.24067638 -0.50710052 -1.41852308]\n",
      " [ 0.94669721  1.84802111  2.62589498]\n",
      " [ 0.60981716  0.62866825 -0.98071164]\n",
      " [ 0.1193108   2.25530349  0.14511152]]\n",
      "\n",
      "b2:\n",
      "[1.56346904 1.7913109  0.89886178]\n",
      "\n",
      "s:\n",
      "[[1.73886857 2.81709966 0.17346417]\n",
      " [2.10703269 4.72155358 1.40140268]\n",
      " [2.56587732 3.58344296 1.45320005]\n",
      " [2.17823618 4.66816015 1.4691163 ]\n",
      " [2.17326357 4.62821954 1.4439684 ]\n",
      " [1.73609014 3.99462197 0.42076728]\n",
      " [2.04647269 4.71148848 1.40487733]\n",
      " [2.37499077 5.27704578 2.12808853]\n",
      " [2.43627408 3.55099827 1.4050574 ]\n",
      " [2.1607869  4.87366796 1.59219909]]\n",
      "\n"
     ]
    }
   ],
   "source": [
    "x = np.random.randn(10, 2) # 輸入\n",
    "W1 = np.random.randn(2, 4) # 權重\n",
    "b1 = np.random.randn(4) # 偏權值 \n",
    "h = np.dot(x, W1) + b1\n",
    "W2 = np.random.randn(4, 3) # 權重\n",
    "b2 = np.random.randn(3) # 偏權值 \n",
    "a = sigmoid(h)\n",
    "s = np.dot(a, W2) + b2\n",
    "print('x:\\n{}'.format(x))\n",
    "print('W1:\\n{}\\n'.format(W1))\n",
    "print('b1:\\n{}\\n'.format(b1))\n",
    "print('h:\\n{}\\n'.format(h))\n",
    "print('a:\\n{}\\n'.format(a))\n",
    "print('W2:\\n{}\\n'.format(W2))\n",
    "print('b2:\\n{}\\n'.format(b2))\n",
    "print('s:\\n{}\\n'.format(s))"
   ]
  },
  {
   "cell_type": "markdown",
   "metadata": {},
   "source": [
    "# 1.2.2 Forward Propagation"
   ]
  },
  {
   "cell_type": "code",
   "execution_count": 4,
   "metadata": {},
   "outputs": [],
   "source": [
    "import numpy as np"
   ]
  },
  {
   "cell_type": "code",
   "execution_count": 5,
   "metadata": {},
   "outputs": [],
   "source": [
    "class Sigmoid:\n",
    "    def __init__(self):\n",
    "        self.params = list()\n",
    "        \n",
    "    def forward(self, x):\n",
    "        return 1 / (1+np.exp(-x))"
   ]
  },
  {
   "cell_type": "code",
   "execution_count": 6,
   "metadata": {},
   "outputs": [],
   "source": [
    "class Affine:\n",
    "    def __init__(self, W, b):\n",
    "        self.params = [W, b]\n",
    "        \n",
    "    def forward(self, x):\n",
    "        W, b = self.params\n",
    "        out = np.dot(x, W) + b\n",
    "        return out"
   ]
  },
  {
   "cell_type": "code",
   "execution_count": 7,
   "metadata": {},
   "outputs": [],
   "source": [
    "class TwoLayerNet:\n",
    "    def __init__(self, input_size, hidden_size, output_size):\n",
    "        # 初始化權重、偏移值\n",
    "        I, H, O = input_size, hidden_size, output_size        \n",
    "        W1 = np.random.randn(I, H)\n",
    "        b1 = np.random.randn(H)\n",
    "        W2 = np.random.randn(H, O)\n",
    "        b2 = np.random.randn(O)\n",
    "        # 連接各層神經網路\n",
    "        self.layers = [\n",
    "            Affine(W1, b1),\n",
    "            Sigmoid(),\n",
    "            Affine(W2, b2)\n",
    "        ]\n",
    "        # 儲存參數\n",
    "        self.params = list()\n",
    "        for layer in self.layers:\n",
    "            self.params += layer.params\n",
    "            \n",
    "    def predict(self, x):\n",
    "        for layer in self.layers:\n",
    "            x = layer.forward(x)\n",
    "        return x"
   ]
  },
  {
   "cell_type": "code",
   "execution_count": 8,
   "metadata": {},
   "outputs": [
    {
     "name": "stdout",
     "output_type": "stream",
     "text": [
      "x:\n",
      "[[-0.23152811  1.53243252]\n",
      " [ 0.08968794 -1.55956123]\n",
      " [ 2.57285184  1.0186436 ]\n",
      " [-2.29532958 -0.66375209]\n",
      " [ 0.94152432 -0.94010522]\n",
      " [-0.45401835  0.62810133]\n",
      " [-1.0098573  -1.01911098]\n",
      " [ 2.52251939 -0.92706371]\n",
      " [ 1.01871112  0.06691501]\n",
      " [-1.836088    0.43912979]]\n",
      "\n",
      "s:\n",
      "[[ 2.74386282 -1.31683564  0.44586362]\n",
      " [ 2.01489165 -2.35522538  1.18756454]\n",
      " [ 3.6168653  -0.43195754  0.5515123 ]\n",
      " [ 1.48928315 -2.78157599  1.92169045]\n",
      " [ 2.82725247 -1.42015509  0.63438762]\n",
      " [ 2.30374905 -1.79898521  0.65052509]\n",
      " [ 1.64191885 -2.63295173  1.651295  ]\n",
      " [ 3.49400008 -0.68949697  0.64735195]\n",
      " [ 3.15358324 -0.97443438  0.5213762 ]\n",
      " [ 1.64135877 -2.42686218  1.44977459]]\n",
      "\n"
     ]
    }
   ],
   "source": [
    "x = np.random.randn(10, 2)\n",
    "model = TwoLayerNet(2, 4, 3)\n",
    "s = model.predict(x)\n",
    "print('x:\\n{}\\n'.format(x))\n",
    "print('s:\\n{}\\n'.format(s))"
   ]
  },
  {
   "cell_type": "code",
   "execution_count": null,
   "metadata": {},
   "outputs": [],
   "source": []
  }
 ],
 "metadata": {
  "kernelspec": {
   "display_name": "Python 3",
   "language": "python",
   "name": "python3"
  },
  "language_info": {
   "codemirror_mode": {
    "name": "ipython",
    "version": 3
   },
   "file_extension": ".py",
   "mimetype": "text/x-python",
   "name": "python",
   "nbconvert_exporter": "python",
   "pygments_lexer": "ipython3",
   "version": "3.6.9"
  }
 },
 "nbformat": 4,
 "nbformat_minor": 2
}
