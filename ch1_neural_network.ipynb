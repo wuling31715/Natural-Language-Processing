{
 "cells": [
  {
   "cell_type": "markdown",
   "metadata": {},
   "source": [
    "# 1.1 Numpy"
   ]
  },
  {
   "cell_type": "markdown",
   "metadata": {},
   "source": [
    "## 1.1.1 Array"
   ]
  },
  {
   "cell_type": "code",
   "execution_count": 1,
   "metadata": {},
   "outputs": [],
   "source": [
    "import numpy as np\n",
    "import matplotlib.pyplot as plt"
   ]
  },
  {
   "cell_type": "code",
   "execution_count": 2,
   "metadata": {},
   "outputs": [
    {
     "name": "stdout",
     "output_type": "stream",
     "text": [
      "<class 'numpy.ndarray'>\n",
      "(10,)\n",
      "1\n"
     ]
    }
   ],
   "source": [
    "x = np.array([i for i in range(10)])\n",
    "print(x.__class__)\n",
    "print(x.shape)\n",
    "print(x.ndim)"
   ]
  },
  {
   "cell_type": "code",
   "execution_count": 3,
   "metadata": {},
   "outputs": [
    {
     "name": "stdout",
     "output_type": "stream",
     "text": [
      "(2, 10)\n",
      "2\n"
     ]
    }
   ],
   "source": [
    "W = np.array([[i for i in range(10)], [i for i in range(10)]])\n",
    "print(W.shape)\n",
    "print(W.ndim)"
   ]
  },
  {
   "cell_type": "markdown",
   "metadata": {},
   "source": [
    "## 1.1.2 Element Wise"
   ]
  },
  {
   "cell_type": "code",
   "execution_count": 4,
   "metadata": {},
   "outputs": [
    {
     "name": "stdout",
     "output_type": "stream",
     "text": [
      "[[1 2 3]\n",
      " [5 6 7]]\n",
      "[[-1 -2 -3]\n",
      " [-3 -4 -5]]\n",
      "[[0 0 0]\n",
      " [4 5 6]]\n",
      "[[0.         0.         0.        ]\n",
      " [0.25       0.2        0.16666667]]\n",
      "[[0 0 0]\n",
      " [0 0 0]]\n",
      "[[inf inf inf]\n",
      " [ 4.  5.  6.]]\n"
     ]
    },
    {
     "name": "stderr",
     "output_type": "stream",
     "text": [
      "/Users/wuling31715/opt/anaconda3/lib/python3.6/site-packages/ipykernel_launcher.py:8: RuntimeWarning: divide by zero encountered in true_divide\n",
      "  \n"
     ]
    }
   ],
   "source": [
    "W = np.array([[0, 0, 0], [1, 1, 1]])\n",
    "X = np.array([[1, 2, 3], [4, 5, 6]])\n",
    "print(W + X)\n",
    "print(W - X)\n",
    "print(W * X)\n",
    "print(W / X)\n",
    "print(W // X)\n",
    "print(X / W)"
   ]
  },
  {
   "cell_type": "markdown",
   "metadata": {},
   "source": [
    "## 1.1.3 Broadcast"
   ]
  },
  {
   "cell_type": "code",
   "execution_count": 5,
   "metadata": {},
   "outputs": [
    {
     "name": "stdout",
     "output_type": "stream",
     "text": [
      "[[10 11]\n",
      " [12 13]]\n",
      "[[ 0 10]\n",
      " [20 30]]\n"
     ]
    }
   ],
   "source": [
    "A = np.array([[0, 1], [2, 3]])\n",
    "print(A + 10)\n",
    "print(A * 10)"
   ]
  },
  {
   "cell_type": "code",
   "execution_count": 6,
   "metadata": {},
   "outputs": [
    {
     "name": "stdout",
     "output_type": "stream",
     "text": [
      "[[10 21]\n",
      " [12 23]]\n",
      "[[ 0 20]\n",
      " [20 60]]\n"
     ]
    }
   ],
   "source": [
    "b = np.array([10, 20])\n",
    "print(A + b)\n",
    "print(A * b)"
   ]
  },
  {
   "cell_type": "markdown",
   "metadata": {},
   "source": [
    "## 1.1.4 Dot"
   ]
  },
  {
   "cell_type": "code",
   "execution_count": 7,
   "metadata": {},
   "outputs": [
    {
     "name": "stdout",
     "output_type": "stream",
     "text": [
      "32\n"
     ]
    }
   ],
   "source": [
    "a = np.array([1, 2, 3])\n",
    "b = np.array([4, 5, 6])\n",
    "print(np.dot(a, b))"
   ]
  },
  {
   "cell_type": "code",
   "execution_count": 8,
   "metadata": {},
   "outputs": [
    {
     "name": "stdout",
     "output_type": "stream",
     "text": [
      "[32]\n"
     ]
    }
   ],
   "source": [
    "b = np.array([[4], [5], [6]])\n",
    "print(np.dot(a, b))"
   ]
  },
  {
   "cell_type": "code",
   "execution_count": 9,
   "metadata": {},
   "outputs": [
    {
     "name": "stdout",
     "output_type": "stream",
     "text": [
      "[[1 2]\n",
      " [3 4]]\n"
     ]
    }
   ],
   "source": [
    "A = np.array([[1, 2], [3, 4]])\n",
    "B = np.array([[1, 0], [0, 1]])\n",
    "print(np.dot(A, B))"
   ]
  },
  {
   "cell_type": "markdown",
   "metadata": {},
   "source": [
    "## 1.1.5 Shape"
   ]
  },
  {
   "cell_type": "code",
   "execution_count": 10,
   "metadata": {},
   "outputs": [
    {
     "name": "stdout",
     "output_type": "stream",
     "text": [
      "[[ 4  8 12]\n",
      " [ 5 10 15]\n",
      " [ 6 12 18]]\n",
      "(3, 3)\n"
     ]
    }
   ],
   "source": [
    "a = np.array([1, 2, 3])\n",
    "b = np.array([[4], [5], [6]])\n",
    "c = a * b # Broadcast\n",
    "print(c)\n",
    "print(c.shape)"
   ]
  },
  {
   "cell_type": "code",
   "execution_count": 11,
   "metadata": {},
   "outputs": [
    {
     "name": "stdout",
     "output_type": "stream",
     "text": [
      "[32]\n",
      "(1,)\n"
     ]
    }
   ],
   "source": [
    "d = np.dot(a, b) # Dot\n",
    "print(d)\n",
    "print(d.shape)"
   ]
  },
  {
   "cell_type": "markdown",
   "metadata": {},
   "source": [
    "# 1.2 Theory of Neural Network"
   ]
  },
  {
   "cell_type": "markdown",
   "metadata": {},
   "source": [
    "## 1.2.1 Concept of Neural Network"
   ]
  },
  {
   "cell_type": "code",
   "execution_count": 12,
   "metadata": {},
   "outputs": [],
   "source": [
    "def sigmoid(x):\n",
    "    return 1 / (1+np.exp(-x))"
   ]
  },
  {
   "cell_type": "code",
   "execution_count": 13,
   "metadata": {},
   "outputs": [
    {
     "name": "stdout",
     "output_type": "stream",
     "text": [
      "x:\n",
      "[[-2.06721981  1.97282512]\n",
      " [ 0.28738507  1.13250305]\n",
      " [-1.3823915   0.75118325]\n",
      " [-1.51582219 -0.06993043]\n",
      " [-0.49547275  0.51852691]\n",
      " [-0.94229068 -0.77023301]\n",
      " [ 0.99705212  0.22007966]\n",
      " [ 0.56146814  1.98982745]\n",
      " [ 1.36005196 -0.91696416]\n",
      " [ 0.3365922  -1.27284961]]\n",
      "\n",
      "W1:\n",
      "[[ 0.93596046 -0.90371138 -1.18344245 -1.35952548]\n",
      " [-0.25066393 -0.43860798  1.29041261 -0.21804564]]\n",
      "\n",
      "b1:\n",
      "[-0.43968243  0.91744613  1.23375836 -1.86788835]\n",
      "\n",
      "h:\n",
      "[[-2.86903453  1.92031936  6.22595244  0.51238375]\n",
      " [-0.45457904  0.1610081   2.35505089 -2.50553303]\n",
      " [-1.92184076  1.83725409  3.83907548 -0.15228411]\n",
      " [-1.84090302  2.31798394  2.93740758  0.20815857]\n",
      " [-1.03340132  1.13778045  2.4892355  -1.30734306]\n",
      " [-1.1285596   2.10683528  1.35498675 -0.41887422]\n",
      " [ 0.4383529  -0.08012991  0.33779812 -3.27139352]\n",
      " [-0.41294842 -0.46271321  3.13699156 -3.06509179]\n",
      " [ 1.06312227  0.0905395  -1.55904698 -3.51697361]\n",
      " [ 0.19441206  1.17154592 -0.80708033 -2.04795473]]\n",
      "\n",
      "a:\n",
      "[[0.0537057  0.87217404 0.99802646 0.62536511]\n",
      " [0.38827261 0.54016529 0.91333486 0.0754712 ]\n",
      " [0.12765644 0.86262363 0.9789396  0.46200238]\n",
      " [0.13694453 0.91035555 0.94966495 0.55185255]\n",
      " [0.26242522 0.75727189 0.92338373 0.21293179]\n",
      " [0.24442702 0.89156576 0.79494371 0.39678617]\n",
      " [0.60786649 0.47997823 0.58365556 0.0365657 ]\n",
      " [0.39820536 0.38634237 0.95839308 0.04457037]\n",
      " [0.74328676 0.52261942 0.17378344 0.02883312]\n",
      " [0.54845051 0.76342433 0.30851301 0.11425921]]\n",
      "\n",
      "W2:\n",
      "[[-2.54286348 -0.78813357 -1.49937739]\n",
      " [-0.54664266  0.21797865 -0.02260414]\n",
      " [-0.44194088 -1.19010953  0.17507019]\n",
      " [-1.79390968  0.25980619 -1.59650966]]\n",
      "\n",
      "b2:\n",
      "[ 1.32743166 -1.83528281 -0.32339247]\n",
      "\n",
      "s:\n",
      "[[-0.84881936 -2.71278183 -1.24730909]\n",
      " [-0.49419851 -3.09090963 -0.87836242]\n",
      " [-0.73015207 -2.79287387 -1.10050463]\n",
      " [-0.92810814 -2.73160592 -1.26408171]\n",
      " [-0.54389838 -2.92064662 -0.91227508]\n",
      " [-0.84459743 -2.67656423 -1.20433591]\n",
      " [-0.80420324 -2.89485184 -1.20186005]\n",
      " [-0.39984972 -3.19392052 -0.83255649]\n",
      " [-0.97685719 -2.5065025  -1.46528125]\n",
      " [-0.82583862 -2.43860388 -1.29138781]]\n",
      "\n"
     ]
    }
   ],
   "source": [
    "x = np.random.randn(10, 2) # 輸入\n",
    "W1 = np.random.randn(2, 4) # 權重\n",
    "b1 = np.random.randn(4) # 偏權值 \n",
    "h = np.dot(x, W1) + b1\n",
    "W2 = np.random.randn(4, 3) # 權重\n",
    "b2 = np.random.randn(3) # 偏權值 \n",
    "a = sigmoid(h)\n",
    "s = np.dot(a, W2) + b2\n",
    "print('x:\\n{}\\n'.format(x))\n",
    "print('W1:\\n{}\\n'.format(W1))\n",
    "print('b1:\\n{}\\n'.format(b1))\n",
    "print('h:\\n{}\\n'.format(h))\n",
    "print('a:\\n{}\\n'.format(a))\n",
    "print('W2:\\n{}\\n'.format(W2))\n",
    "print('b2:\\n{}\\n'.format(b2))\n",
    "print('s:\\n{}\\n'.format(s))"
   ]
  },
  {
   "cell_type": "markdown",
   "metadata": {},
   "source": [
    "## 1.2.2 Forward Propagation"
   ]
  },
  {
   "cell_type": "code",
   "execution_count": 14,
   "metadata": {},
   "outputs": [],
   "source": [
    "class Sigmoid:\n",
    "    def __init__(self):\n",
    "        self.params = list()\n",
    "        \n",
    "    def forward(self, x):\n",
    "        return 1 / (1+np.exp(-x))"
   ]
  },
  {
   "cell_type": "code",
   "execution_count": 15,
   "metadata": {},
   "outputs": [],
   "source": [
    "class Affine:\n",
    "    def __init__(self, W, b):\n",
    "        self.params = [W, b]\n",
    "        \n",
    "    def forward(self, x):\n",
    "        W, b = self.params\n",
    "        out = np.dot(x, W) + b\n",
    "        return out"
   ]
  },
  {
   "cell_type": "code",
   "execution_count": 16,
   "metadata": {},
   "outputs": [],
   "source": [
    "class TwoLayerNet:\n",
    "    def __init__(self, input_size, hidden_size, output_size):\n",
    "        # 初始化權重、偏移值\n",
    "        I, H, O = input_size, hidden_size, output_size        \n",
    "        W1 = np.random.randn(I, H)\n",
    "        b1 = np.random.randn(H)\n",
    "        W2 = np.random.randn(H, O)\n",
    "        b2 = np.random.randn(O)\n",
    "        # 連接各層神經網路\n",
    "        self.layers = [\n",
    "            Affine(W1, b1),\n",
    "            Sigmoid(),\n",
    "            Affine(W2, b2)\n",
    "        ]\n",
    "        # 儲存參數\n",
    "        self.params = list()\n",
    "        for layer in self.layers:\n",
    "            self.params += layer.params\n",
    "            \n",
    "    def predict(self, x):\n",
    "        for layer in self.layers:\n",
    "            x = layer.forward(x)\n",
    "        return x"
   ]
  },
  {
   "cell_type": "code",
   "execution_count": 17,
   "metadata": {},
   "outputs": [
    {
     "name": "stdout",
     "output_type": "stream",
     "text": [
      "x:\n",
      "[[ 1.25339704  2.02017362]\n",
      " [ 0.81813057  0.72957152]\n",
      " [ 0.54042076 -0.02010174]\n",
      " [ 0.11334406 -1.79588068]\n",
      " [ 2.11268544 -0.11487169]\n",
      " [-0.26479194 -0.61846225]\n",
      " [-1.10262955  1.11833089]\n",
      " [-0.19551341 -0.2821407 ]\n",
      " [ 1.33814755  1.99399557]\n",
      " [-0.73484729 -1.08441827]]\n",
      "\n",
      "s:\n",
      "[[ 0.2643271   2.11570757  0.89155978]\n",
      " [ 0.09495751  2.56944416  0.79812893]\n",
      " [-0.0508666   2.91067345  0.7512857 ]\n",
      " [-0.36238028  3.50132028  0.61251644]\n",
      " [ 0.2007799   1.71806697  0.75775973]\n",
      " [-0.3107278   3.66904774  0.59498498]\n",
      " [-0.31836924  4.00285375  0.49141354]\n",
      " [-0.25558387  3.57122285  0.6375811 ]\n",
      " [ 0.26940156  2.06071533  0.89190026]\n",
      " [-0.45453089  4.04429361  0.38535796]]\n",
      "\n"
     ]
    }
   ],
   "source": [
    "x = np.random.randn(10, 2)\n",
    "model = TwoLayerNet(2, 4, 3)\n",
    "s = model.predict(x)\n",
    "print('x:\\n{}\\n'.format(x))\n",
    "print('s:\\n{}\\n'.format(s))"
   ]
  },
  {
   "cell_type": "markdown",
   "metadata": {},
   "source": [
    "# 1.3 Learning of Neural Network "
   ]
  },
  {
   "cell_type": "markdown",
   "metadata": {},
   "source": [
    "## 1.3.1 Loss Function"
   ]
  },
  {
   "cell_type": "code",
   "execution_count": 18,
   "metadata": {},
   "outputs": [],
   "source": [
    "class SigmoidWithLoss:\n",
    "    def __init__(self):\n",
    "        self.params = list()\n",
    "        self.grads = list()\n",
    "        self.loss = None\n",
    "        self.y = None  \n",
    "        self.t = None \n",
    "\n",
    "    def forward(self, x, t):\n",
    "        self.t = t\n",
    "        self.y = 1 / (1 + np.exp(-x))\n",
    "\n",
    "        self.loss = cross_entropy_error(np.c_[1 - self.y, self.y], self.t)\n",
    "\n",
    "        return self.loss\n",
    "\n",
    "    def backward(self, dout=1):\n",
    "        batch_size = self.t.shape[0]\n",
    "\n",
    "        dx = (self.y - self.t) * dout / batch_size\n",
    "        return dx"
   ]
  },
  {
   "cell_type": "markdown",
   "metadata": {},
   "source": [
    "## 1.3.2 Gradient"
   ]
  },
  {
   "cell_type": "markdown",
   "metadata": {},
   "source": [
    "$ \\frac{\\partial L}{\\partial X} = (\\frac{\\partial L}{\\partial x_1}, \\frac{\\partial L}{\\partial x_2}... \\frac{\\partial L}{\\partial x_n}) $"
   ]
  },
  {
   "cell_type": "markdown",
   "metadata": {},
   "source": [
    "## 1.3.3 Chain Lule"
   ]
  },
  {
   "cell_type": "markdown",
   "metadata": {},
   "source": [
    "$ \\frac{\\partial X}{\\partial Z} = \\frac{\\partial X}{\\partial Y} \\frac{\\partial Y}{\\partial Z} $"
   ]
  },
  {
   "cell_type": "markdown",
   "metadata": {},
   "source": [
    "## 1.3.4 Computation Graph"
   ]
  },
  {
   "cell_type": "markdown",
   "metadata": {},
   "source": [
    "### 1.3.4.1 Multiplication"
   ]
  },
  {
   "cell_type": "markdown",
   "metadata": {},
   "source": [
    "### 1.3.4.2 Branch"
   ]
  },
  {
   "cell_type": "markdown",
   "metadata": {},
   "source": [
    "### 1.3.4.3 Repeat"
   ]
  },
  {
   "cell_type": "code",
   "execution_count": 19,
   "metadata": {},
   "outputs": [
    {
     "name": "stdout",
     "output_type": "stream",
     "text": [
      "x:\n",
      "[[ 0.05530676 -0.12877373  0.7293361   0.05833367  0.95909968  0.32135287\n",
      "  -0.43866585  0.33987388]]\n",
      "\n",
      "y:\n",
      "[[ 0.05530676 -0.12877373  0.7293361   0.05833367  0.95909968  0.32135287\n",
      "  -0.43866585  0.33987388]\n",
      " [ 0.05530676 -0.12877373  0.7293361   0.05833367  0.95909968  0.32135287\n",
      "  -0.43866585  0.33987388]\n",
      " [ 0.05530676 -0.12877373  0.7293361   0.05833367  0.95909968  0.32135287\n",
      "  -0.43866585  0.33987388]\n",
      " [ 0.05530676 -0.12877373  0.7293361   0.05833367  0.95909968  0.32135287\n",
      "  -0.43866585  0.33987388]\n",
      " [ 0.05530676 -0.12877373  0.7293361   0.05833367  0.95909968  0.32135287\n",
      "  -0.43866585  0.33987388]\n",
      " [ 0.05530676 -0.12877373  0.7293361   0.05833367  0.95909968  0.32135287\n",
      "  -0.43866585  0.33987388]\n",
      " [ 0.05530676 -0.12877373  0.7293361   0.05833367  0.95909968  0.32135287\n",
      "  -0.43866585  0.33987388]]\n",
      "\n",
      "dy:\n",
      "[[-0.9339893   0.27970392  1.94600405  1.92935235 -2.35081066  0.73421348\n",
      "  -0.87314214  0.21075248]\n",
      " [ 0.56996973 -0.66709586 -1.11008894  0.38279732 -0.67291902 -0.91085586\n",
      "   0.13395266 -0.57993605]\n",
      " [ 1.67222903 -1.95085298 -0.55489137 -1.75797569  0.82210969  0.14490377\n",
      "  -0.54615948  0.84075956]\n",
      " [ 1.72712803  1.64573107  1.87549882 -0.28206883 -0.45997095 -0.21497701\n",
      "  -0.18780356  0.35635618]\n",
      " [-0.98876367  0.05838542 -0.11414132  0.97475123 -0.53748924  1.17749021\n",
      "  -0.17093257  1.94622066]\n",
      " [-0.89353701  0.62820091 -0.37852347 -2.39292442  0.60868119 -0.58138962\n",
      "  -1.28192458 -1.674522  ]\n",
      " [ 0.31717532  2.88167261  0.32874311 -0.70540711 -0.51875343  0.54378546\n",
      "  -1.05665542  0.53428148]]\n",
      "\n",
      "dx:\n",
      "[[ 1.47021215  2.8757451   1.99260088 -1.85147515 -3.10915242  0.89317042\n",
      "  -3.98266509  1.63391232]]\n",
      "\n"
     ]
    }
   ],
   "source": [
    "D = 8\n",
    "N = 7\n",
    "x = np.random.randn(1, D)\n",
    "y = np.repeat(x, N, axis=0) # forward\n",
    "dy = np.random.randn(N, D) # gradient\n",
    "dx = np.sum(dy, axis=0, keepdims=True) # backward\n",
    "print(\"x:\\n{}\\n\".format(x))\n",
    "print(\"y:\\n{}\\n\".format(y))\n",
    "print(\"dy:\\n{}\\n\".format(dy))\n",
    "print(\"dx:\\n{}\\n\".format(dx))"
   ]
  },
  {
   "cell_type": "markdown",
   "metadata": {},
   "source": [
    "### 1.3.4.4 Sum"
   ]
  },
  {
   "cell_type": "code",
   "execution_count": 20,
   "metadata": {},
   "outputs": [
    {
     "name": "stdout",
     "output_type": "stream",
     "text": [
      "x:\n",
      "[[-0.97662744  0.27308195  0.39651829  0.33179009  0.49993151 -0.45942679\n",
      "  -1.43253174 -0.8337642 ]\n",
      " [-1.1870163  -0.34680265  0.0148151  -1.22228957 -1.03247516  0.64534827\n",
      "   0.55765196 -1.91298088]\n",
      " [-0.61104301 -0.66141661 -0.94025777  0.51446028 -0.71777977  1.4256094\n",
      "   0.87351222 -1.25727023]\n",
      " [-1.19960987 -0.30013072  0.40173273 -0.20535769 -0.2897443  -1.0807846\n",
      "   1.27791282 -1.8847578 ]\n",
      " [ 1.35586086 -0.20896635 -0.35762584  0.78703375  0.14249148 -0.42574724\n",
      "  -0.99451465 -0.19464628]\n",
      " [-0.82567224 -1.06417842 -2.7447425  -1.40197213  0.03353918  2.39843362\n",
      "   0.87370855 -0.96578638]\n",
      " [ 0.64728856  0.2234113   0.78190556  0.14732863  1.13979631 -0.80029844\n",
      "  -0.51435261  0.44491655]]\n",
      "\n",
      "y:\n",
      "[[-2.79681945 -2.0850015  -2.44765443 -1.04900664 -0.22424075  1.70313423\n",
      "   0.64138656 -6.60428922]]\n",
      "\n",
      "dy:\n",
      "[[-0.79879062  0.19412818  0.28786842  0.08942156 -0.18249557 -0.76707749\n",
      "   1.7544245   2.7155227 ]]\n",
      "\n",
      "dx:\n",
      "[[-0.79879062  0.19412818  0.28786842  0.08942156 -0.18249557 -0.76707749\n",
      "   1.7544245   2.7155227 ]\n",
      " [-0.79879062  0.19412818  0.28786842  0.08942156 -0.18249557 -0.76707749\n",
      "   1.7544245   2.7155227 ]\n",
      " [-0.79879062  0.19412818  0.28786842  0.08942156 -0.18249557 -0.76707749\n",
      "   1.7544245   2.7155227 ]\n",
      " [-0.79879062  0.19412818  0.28786842  0.08942156 -0.18249557 -0.76707749\n",
      "   1.7544245   2.7155227 ]\n",
      " [-0.79879062  0.19412818  0.28786842  0.08942156 -0.18249557 -0.76707749\n",
      "   1.7544245   2.7155227 ]\n",
      " [-0.79879062  0.19412818  0.28786842  0.08942156 -0.18249557 -0.76707749\n",
      "   1.7544245   2.7155227 ]\n",
      " [-0.79879062  0.19412818  0.28786842  0.08942156 -0.18249557 -0.76707749\n",
      "   1.7544245   2.7155227 ]]\n",
      "\n"
     ]
    }
   ],
   "source": [
    "D = 8\n",
    "N = 7\n",
    "x = np.random.randn(N, D)\n",
    "y = np.sum(x, axis=0, keepdims=True) # forward\n",
    "dy = np.random.randn(1, D) # gradient\n",
    "dx = np.repeat(dy, N, axis=0) # backward\n",
    "print(\"x:\\n{}\\n\".format(x))\n",
    "print(\"y:\\n{}\\n\".format(y))\n",
    "print(\"dy:\\n{}\\n\".format(dy))\n",
    "print(\"dx:\\n{}\\n\".format(dx))"
   ]
  },
  {
   "cell_type": "markdown",
   "metadata": {},
   "source": [
    "### 1.3.4.5 MatMul"
   ]
  },
  {
   "cell_type": "code",
   "execution_count": 21,
   "metadata": {},
   "outputs": [],
   "source": [
    "class MatMul:\n",
    "    def __init__(self, W):\n",
    "        self.params = [W]\n",
    "        self.grads = [np.zeros_like(W)]\n",
    "        self.x = None\n",
    "\n",
    "    def forward(self, x):\n",
    "        W, = self.params\n",
    "        out = np.dot(x, W)\n",
    "        self.x = x\n",
    "        return out\n",
    "\n",
    "    def backward(self, dout):\n",
    "        W, = self.params\n",
    "        dx = np.dot(dout, W.T)\n",
    "        dW = np.dot(self.x.T, dout)\n",
    "        self.grads[0][...] = dW\n",
    "        return dx"
   ]
  },
  {
   "cell_type": "markdown",
   "metadata": {},
   "source": [
    "## 1.3.5 Backward Propagation"
   ]
  },
  {
   "cell_type": "markdown",
   "metadata": {},
   "source": [
    "### 1.3.5.1 Sigmoid "
   ]
  },
  {
   "cell_type": "code",
   "execution_count": 22,
   "metadata": {},
   "outputs": [],
   "source": [
    "class Sigmoid:\n",
    "    def __init__(self):\n",
    "        self.params = list()\n",
    "        self.grads = list()\n",
    "        self.out = None\n",
    "\n",
    "    def forward(self, x):\n",
    "        out = 1 / (1 + np.exp(-x))\n",
    "        self.out = out\n",
    "        return out\n",
    "\n",
    "    def backward(self, dout):\n",
    "        dx = dout * (1.0 - self.out) * self.out\n",
    "        return dx"
   ]
  },
  {
   "cell_type": "markdown",
   "metadata": {},
   "source": [
    "### 1.3.5.2 Affine "
   ]
  },
  {
   "cell_type": "code",
   "execution_count": 23,
   "metadata": {},
   "outputs": [],
   "source": [
    "class Affine:\n",
    "    def __init__(self, W, b):\n",
    "        self.params = [W, b]\n",
    "        self.grads = [np.zeros_like(W), np.zeros_like(b)]\n",
    "        self.x = None\n",
    "\n",
    "    def forward(self, x):\n",
    "        W, b = self.params\n",
    "        out = np.dot(x, W) + b\n",
    "        self.x = x\n",
    "        return out\n",
    "\n",
    "    def backward(self, dout):\n",
    "        W, b = self.params\n",
    "        dx = np.dot(dout, W.T)\n",
    "        dW = np.dot(self.x.T, dout)\n",
    "        db = np.sum(dout, axis=0)\n",
    "\n",
    "        self.grads[0][...] = dW\n",
    "        self.grads[1][...] = db\n",
    "        return dx"
   ]
  },
  {
   "cell_type": "markdown",
   "metadata": {},
   "source": [
    "### 1.3.5.3 Softmax with Loss"
   ]
  },
  {
   "cell_type": "code",
   "execution_count": 24,
   "metadata": {},
   "outputs": [],
   "source": [
    "class SoftmaxWithLoss:\n",
    "    def __init__(self):\n",
    "        self.params = list()\n",
    "        self.grads = list()\n",
    "        self.y = None  \n",
    "        self.t = None  \n",
    "\n",
    "    def forward(self, x, t):\n",
    "        self.t = t\n",
    "        self.y = softmax(x)\n",
    "\n",
    "        if self.t.size == self.y.size:\n",
    "            self.t = self.t.argmax(axis=1)\n",
    "\n",
    "        loss = cross_entropy_error(self.y, self.t)\n",
    "        return loss\n",
    "\n",
    "    def backward(self, dout=1):\n",
    "        batch_size = self.t.shape[0]\n",
    "\n",
    "        dx = self.y.copy()\n",
    "        dx[np.arange(batch_size), self.t] -= 1\n",
    "        dx *= dout\n",
    "        dx = dx / batch_size\n",
    "\n",
    "        return dx"
   ]
  },
  {
   "cell_type": "markdown",
   "metadata": {},
   "source": [
    "## 1.3.6 Updating Weight"
   ]
  },
  {
   "cell_type": "code",
   "execution_count": 25,
   "metadata": {},
   "outputs": [],
   "source": [
    "class SGD:\n",
    "    def __init__(self, lr=0.01):\n",
    "        self.lr = lr\n",
    "        \n",
    "    def update(self, params, grads):\n",
    "        for i in range(len(params)):\n",
    "            params[i] -= self.lr * grads[i]"
   ]
  },
  {
   "cell_type": "code",
   "execution_count": 26,
   "metadata": {},
   "outputs": [],
   "source": [
    "class Momentum:\n",
    "    def __init__(self, lr=0.01, momentum=0.9):\n",
    "        self.lr = lr\n",
    "        self.momentum = momentum\n",
    "        self.v = None\n",
    "        \n",
    "    def update(self, params, grads):\n",
    "        if self.v is None:\n",
    "            self.v = []\n",
    "            for param in params:\n",
    "                self.v.append(np.zeros_like(param))\n",
    "\n",
    "        for i in range(len(params)):\n",
    "            self.v[i] = self.momentum * self.v[i] - self.lr * grads[i]\n",
    "            params[i] += self.v[i]"
   ]
  },
  {
   "cell_type": "code",
   "execution_count": 27,
   "metadata": {},
   "outputs": [],
   "source": [
    "class Nesterov:\n",
    "    def __init__(self, lr=0.01, momentum=0.9):\n",
    "        self.lr = lr\n",
    "        self.momentum = momentum\n",
    "        self.v = None\n",
    "        \n",
    "    def update(self, params, grads):\n",
    "        if self.v is None:\n",
    "            self.v = []\n",
    "            for param in params:\n",
    "                self.v.append(np.zeros_like(param))\n",
    "\n",
    "        for i in range(len(params)):\n",
    "            self.v[i] *= self.momentum\n",
    "            self.v[i] -= self.lr * grads[i]\n",
    "            params[i] += self.momentum * self.momentum * self.v[i]\n",
    "            params[i] -= (1 + self.momentum) * self.lr * grads[i]"
   ]
  },
  {
   "cell_type": "code",
   "execution_count": 28,
   "metadata": {},
   "outputs": [],
   "source": [
    "class AdaGrad:\n",
    "    def __init__(self, lr=0.01):\n",
    "        self.lr = lr\n",
    "        self.h = None\n",
    "        \n",
    "    def update(self, params, grads):\n",
    "        if self.h is None:\n",
    "            self.h = []\n",
    "            for param in params:\n",
    "                self.h.append(np.zeros_like(param))\n",
    "\n",
    "        for i in range(len(params)):\n",
    "            self.h[i] += grads[i] * grads[i]\n",
    "            params[i] -= self.lr * grads[i] / (np.sqrt(self.h[i]) + 1e-7)"
   ]
  },
  {
   "cell_type": "code",
   "execution_count": 29,
   "metadata": {},
   "outputs": [],
   "source": [
    "class RMSprop:\n",
    "    def __init__(self, lr=0.01, decay_rate = 0.99):\n",
    "        self.lr = lr\n",
    "        self.decay_rate = decay_rate\n",
    "        self.h = None\n",
    "        \n",
    "    def update(self, params, grads):\n",
    "        if self.h is None:\n",
    "            self.h = []\n",
    "            for param in params:\n",
    "                self.h.append(np.zeros_like(param))\n",
    "\n",
    "        for i in range(len(params)):\n",
    "            self.h[i] *= self.decay_rate\n",
    "            self.h[i] += (1 - self.decay_rate) * grads[i] * grads[i]\n",
    "            params[i] -= self.lr * grads[i] / (np.sqrt(self.h[i]) + 1e-7)"
   ]
  },
  {
   "cell_type": "code",
   "execution_count": 30,
   "metadata": {},
   "outputs": [],
   "source": [
    "class Adam:\n",
    "    def __init__(self, lr=0.001, beta1=0.9, beta2=0.999):\n",
    "        self.lr = lr\n",
    "        self.beta1 = beta1\n",
    "        self.beta2 = beta2\n",
    "        self.iter = 0\n",
    "        self.m = None\n",
    "        self.v = None\n",
    "        \n",
    "    def update(self, params, grads):\n",
    "        if self.m is None:\n",
    "            self.m, self.v = [], []\n",
    "            for param in params:\n",
    "                self.m.append(np.zeros_like(param))\n",
    "                self.v.append(np.zeros_like(param))\n",
    "        \n",
    "        self.iter += 1\n",
    "        lr_t = self.lr * np.sqrt(1.0 - self.beta2**self.iter) / (1.0 - self.beta1**self.iter)\n",
    "\n",
    "        for i in range(len(params)):\n",
    "            self.m[i] += (1 - self.beta1) * (grads[i] - self.m[i])\n",
    "            self.v[i] += (1 - self.beta2) * (grads[i]**2 - self.v[i])            \n",
    "            params[i] -= lr_t * self.m[i] / (np.sqrt(self.v[i]) + 1e-7)"
   ]
  },
  {
   "cell_type": "markdown",
   "metadata": {},
   "source": [
    "# 1.4 Solving Problem Neural Network "
   ]
  },
  {
   "cell_type": "markdown",
   "metadata": {},
   "source": [
    "## 1.4.1 Loading Datasets"
   ]
  },
  {
   "cell_type": "code",
   "execution_count": 31,
   "metadata": {},
   "outputs": [],
   "source": [
    "class Spiral:\n",
    "    def load_data(seed=1984):\n",
    "        np.random.seed()\n",
    "        N = 100  \n",
    "        DIM = 2  \n",
    "        CLS_NUM = 3 \n",
    "\n",
    "        x = np.zeros((N*CLS_NUM, DIM)) # 輸入資料\n",
    "        t = np.zeros((N*CLS_NUM, CLS_NUM), dtype=np.int) # 標籤資料\n",
    "\n",
    "        for j in range(CLS_NUM):\n",
    "            for i in range(N):\n",
    "                rate = i / N\n",
    "                radius = 1.0*rate\n",
    "                theta = j*4.0 + 4.0*rate + np.random.randn()*0.2\n",
    "\n",
    "                ix = N*j + i\n",
    "                x[ix] = np.array([radius*np.sin(theta),\n",
    "                                  radius*np.cos(theta)]).flatten()\n",
    "                t[ix, j] = 1\n",
    "\n",
    "        return x, t"
   ]
  },
  {
   "cell_type": "code",
   "execution_count": 32,
   "metadata": {},
   "outputs": [
    {
     "name": "stdout",
     "output_type": "stream",
     "text": [
      "x: (300, 2)\n",
      "t: (300, 3)\n"
     ]
    },
    {
     "data": {
      "image/png": "[encoded data removed]",
      "text/plain": [
       "<Figure size 432x288 with 1 Axes>"
      ]
     },
     "metadata": {
      "needs_background": "light"
     },
     "output_type": "display_data"
    }
   ],
   "source": [
    "spiral = Spiral()\n",
    "x, t = spiral.load_data()\n",
    "print('x:', x.shape)  \n",
    "print('t:', t.shape)  \n",
    "\n",
    "N = 100\n",
    "CLS_NUM = 3\n",
    "markers = ['o', 'x', '^']\n",
    "\n",
    "for i in range(CLS_NUM):\n",
    "    plt.scatter(x[i*N:(i+1)*N, 0], x[i*N:(i+1)*N, 1], s=40, marker=markers[i])\n",
    "plt.show()"
   ]
  },
  {
   "cell_type": "markdown",
   "metadata": {},
   "source": [
    "## 1.4.2 Building Neural Network"
   ]
  },
  {
   "cell_type": "code",
   "execution_count": 33,
   "metadata": {},
   "outputs": [],
   "source": [
    "class Affine:\n",
    "    def __init__(self, W, b):\n",
    "        self.params = [W, b]\n",
    "        self.grads = [np.zeros_like(W), np.zeros_like(b)]\n",
    "        self.x = None\n",
    "\n",
    "    def forward(self, x):\n",
    "        W, b = self.params\n",
    "        out = np.dot(x, W) + b\n",
    "        self.x = x\n",
    "        return out\n",
    "\n",
    "    def backward(self, dout):\n",
    "        W, b = self.params\n",
    "        dx = np.dot(dout, W.T)\n",
    "        dW = np.dot(self.x.T, dout)\n",
    "        db = np.sum(dout, axis=0)\n",
    "\n",
    "        self.grads[0][...] = dW\n",
    "        self.grads[1][...] = db\n",
    "        return dx"
   ]
  },
  {
   "cell_type": "code",
   "execution_count": 34,
   "metadata": {},
   "outputs": [],
   "source": [
    "class Sigmoid:\n",
    "    def __init__(self):\n",
    "        self.params = list()\n",
    "        self.grads = list()\n",
    "        self.out = None\n",
    "\n",
    "    def forward(self, x):\n",
    "        out = 1 / (1 + np.exp(-x))\n",
    "        self.out = out\n",
    "        return out\n",
    "\n",
    "    def backward(self, dout):\n",
    "        dx = dout * (1.0 - self.out) * self.out\n",
    "        return dx"
   ]
  },
  {
   "cell_type": "code",
   "execution_count": 35,
   "metadata": {},
   "outputs": [],
   "source": [
    "def softmax(x):\n",
    "    if x.ndim == 2:\n",
    "        x = x - x.max(axis=1, keepdims=True)\n",
    "        x = np.exp(x)\n",
    "        x /= x.sum(axis=1, keepdims=True)\n",
    "    elif x.ndim == 1:\n",
    "        x = x - np.max(x)\n",
    "        x = np.exp(x) / np.sum(np.exp(x))\n",
    "    return x"
   ]
  },
  {
   "cell_type": "code",
   "execution_count": 36,
   "metadata": {},
   "outputs": [],
   "source": [
    "def cross_entropy_error(y, t):\n",
    "    if y.ndim == 1:\n",
    "        t = t.reshape(1, t.size)\n",
    "        y = y.reshape(1, y.size)\n",
    "        \n",
    "    if t.size == y.size:\n",
    "        t = t.argmax(axis=1)\n",
    "             \n",
    "    batch_size = y.shape[0]\n",
    "\n",
    "    return -np.sum(np.log(y[np.arange(batch_size), t] + 1e-7)) / batch_size"
   ]
  },
  {
   "cell_type": "code",
   "execution_count": 37,
   "metadata": {},
   "outputs": [],
   "source": [
    "class SoftmaxWithLoss:\n",
    "    def __init__(self):\n",
    "        self.params = list()\n",
    "        self.grads = list()\n",
    "        self.y = None  \n",
    "        self.t = None  \n",
    "\n",
    "    def forward(self, x, t):\n",
    "        self.t = t\n",
    "        self.y = softmax(x)\n",
    "\n",
    "        if self.t.size == self.y.size:\n",
    "            self.t = self.t.argmax(axis=1)\n",
    "\n",
    "        loss = cross_entropy_error(self.y, self.t)\n",
    "        return loss\n",
    "\n",
    "    def backward(self, dout=1):\n",
    "        batch_size = self.t.shape[0]\n",
    "\n",
    "        dx = self.y.copy()\n",
    "        dx[np.arange(batch_size), self.t] -= 1\n",
    "        dx *= dout\n",
    "        dx = dx / batch_size\n",
    "\n",
    "        return dx"
   ]
  },
  {
   "cell_type": "code",
   "execution_count": 38,
   "metadata": {},
   "outputs": [],
   "source": [
    "class TwoLayerNet:\n",
    "    def __init__(self, input_size, hidden_size, output_size):\n",
    "        I, H, O = input_size, hidden_size, output_size\n",
    "\n",
    "        W1 = 0.01 * np.random.randn(I, H)\n",
    "        b1 = np.zeros(H)\n",
    "        W2 = 0.01 * np.random.randn(H, O)\n",
    "        b2 = np.zeros(O)\n",
    "\n",
    "        self.layers = [\n",
    "            Affine(W1, b1),\n",
    "            Sigmoid(),\n",
    "            Affine(W2, b2)\n",
    "        ]\n",
    "        self.loss_layer = SoftmaxWithLoss()\n",
    "\n",
    "        self.params = list()\n",
    "        self.grads = list()\n",
    "        for layer in self.layers:\n",
    "            self.params += layer.params\n",
    "            self.grads += layer.grads\n",
    "\n",
    "    def predict(self, x):\n",
    "        for layer in self.layers:\n",
    "            x = layer.forward(x)\n",
    "        return x\n",
    "\n",
    "    def forward(self, x, t):\n",
    "        score = self.predict(x)\n",
    "        loss = self.loss_layer.forward(score, t)\n",
    "        return loss\n",
    "\n",
    "    def backward(self, dout=1):\n",
    "        dout = self.loss_layer.backward(dout)\n",
    "        for layer in reversed(self.layers):\n",
    "            dout = layer.backward(dout)\n",
    "        return dout"
   ]
  },
  {
   "cell_type": "code",
   "execution_count": 39,
   "metadata": {},
   "outputs": [],
   "source": [
    "class SGD:\n",
    "    def __init__(self, lr=0.01):\n",
    "        self.lr = lr\n",
    "        \n",
    "    def update(self, params, grads):\n",
    "        for i in range(len(params)):\n",
    "            params[i] -= self.lr * grads[i]"
   ]
  },
  {
   "cell_type": "markdown",
   "metadata": {},
   "source": [
    "## 1.4.3 Training Neural Network"
   ]
  },
  {
   "cell_type": "code",
   "execution_count": 40,
   "metadata": {},
   "outputs": [
    {
     "name": "stdout",
     "output_type": "stream",
     "text": [
      "| epoch 1    | iter 10 / 10   | loss1.1962232339699368\n",
      "| epoch 11   | iter 10 / 10   | loss1.1446987108793667\n",
      "| epoch 21   | iter 10 / 10   | loss1.1574469818507727\n",
      "| epoch 31   | iter 10 / 10   | loss1.1513216340915793\n",
      "| epoch 41   | iter 10 / 10   | loss1.116945222484044\n",
      "| epoch 51   | iter 10 / 10   | loss1.1347764942418754\n",
      "| epoch 61   | iter 10 / 10   | loss1.1296780681122358\n",
      "| epoch 71   | iter 10 / 10   | loss1.1336768478573798\n",
      "| epoch 81   | iter 10 / 10   | loss1.1538002230757705\n",
      "| epoch 91   | iter 10 / 10   | loss1.132612712712834\n",
      "| epoch 101  | iter 10 / 10   | loss1.0967786601243574\n",
      "| epoch 111  | iter 10 / 10   | loss1.1052561516285173\n",
      "| epoch 121  | iter 10 / 10   | loss1.0671027765188428\n",
      "| epoch 131  | iter 10 / 10   | loss1.0128400814051952\n",
      "| epoch 141  | iter 10 / 10   | loss0.9720262798882414\n",
      "| epoch 151  | iter 10 / 10   | loss0.9221343856891602\n",
      "| epoch 161  | iter 10 / 10   | loss0.8864014954457037\n",
      "| epoch 171  | iter 10 / 10   | loss0.8701430718028129\n",
      "| epoch 181  | iter 10 / 10   | loss0.807213863060694\n",
      "| epoch 191  | iter 10 / 10   | loss0.8046030284076663\n",
      "| epoch 201  | iter 10 / 10   | loss0.7880359483313779\n",
      "| epoch 211  | iter 10 / 10   | loss0.7710015546315361\n",
      "| epoch 221  | iter 10 / 10   | loss0.7513498344822104\n",
      "| epoch 231  | iter 10 / 10   | loss0.7702739777060694\n",
      "| epoch 241  | iter 10 / 10   | loss0.7456676384431511\n",
      "| epoch 251  | iter 10 / 10   | loss0.7361200906100028\n",
      "| epoch 261  | iter 10 / 10   | loss0.7440832376479942\n",
      "| epoch 271  | iter 10 / 10   | loss0.7488267409427997\n",
      "| epoch 281  | iter 10 / 10   | loss0.7342836501740584\n",
      "| epoch 291  | iter 10 / 10   | loss0.7241385502248682\n"
     ]
    },
    {
     "data": {
      "image/png": "[encoded data removed]",
      "text/plain": [
       "<Figure size 432x288 with 1 Axes>"
      ]
     },
     "metadata": {
      "needs_background": "light"
     },
     "output_type": "display_data"
    },
    {
     "data": {
      "image/png": "[encoded data removed]",
      "text/plain": [
       "<Figure size 432x288 with 1 Axes>"
      ]
     },
     "metadata": {
      "needs_background": "light"
     },
     "output_type": "display_data"
    }
   ],
   "source": [
    "max_epoch = 300\n",
    "batch_size = 30\n",
    "hidden_size = 10\n",
    "learning_rate = 1.0\n",
    "\n",
    "x, t = spiral.load_data()\n",
    "model = TwoLayerNet(input_size=2, hidden_size=hidden_size, output_size=3)\n",
    "optimizer = SGD(lr=learning_rate)\n",
    "\n",
    "data_size = len(x)\n",
    "max_iters = data_size // batch_size\n",
    "total_loss = 0\n",
    "loss_count = 0\n",
    "loss_list = []\n",
    "\n",
    "for epoch in range(max_epoch):\n",
    "    if epoch % 10 == 0:\n",
    "        idx = np.random.permutation(data_size)\n",
    "        x = x[idx]\n",
    "        t = t[idx]\n",
    "\n",
    "        for iters in range(max_iters):\n",
    "            batch_x = x[iters*batch_size:(iters+1)*batch_size]\n",
    "            batch_t = t[iters*batch_size:(iters+1)*batch_size]\n",
    "\n",
    "            loss = model.forward(batch_x, batch_t)\n",
    "            model.backward()\n",
    "            optimizer.update(model.params, model.grads)\n",
    "\n",
    "            total_loss += loss\n",
    "            loss_count += 1\n",
    "\n",
    "            if (iters+1) % 10 == 0:\n",
    "                avg_loss = total_loss / loss_count\n",
    "    #             print('| epoch %d |  iter %d / %d | loss %.2f' % (epoch + 1, iters + 1, max_iters, avg_loss))\n",
    "                print('| epoch {:<5}| iter {} / {:<5}| loss{}'.format(epoch + 1, iters + 1, max_iters, avg_loss))\n",
    "                loss_list.append(avg_loss)\n",
    "                total_loss = 0\n",
    "                loss_count = 0\n",
    "\n",
    "plt.plot(np.arange(len(loss_list)), loss_list, label='train')\n",
    "plt.xlabel('iterations (x10)')\n",
    "plt.ylabel('loss')\n",
    "plt.show()\n",
    "\n",
    "h = 0.001\n",
    "x_min, x_max = x[:, 0].min() - .1, x[:, 0].max() + .1\n",
    "y_min, y_max = x[:, 1].min() - .1, x[:, 1].max() + .1\n",
    "xx, yy = np.meshgrid(np.arange(x_min, x_max, h), np.arange(y_min, y_max, h))\n",
    "X = np.c_[xx.ravel(), yy.ravel()]\n",
    "score = model.predict(X)\n",
    "predict_cls = np.argmax(score, axis=1)\n",
    "Z = predict_cls.reshape(xx.shape)\n",
    "plt.contourf(xx, yy, Z)\n",
    "plt.axis('off')\n",
    "\n",
    "x, t = spiral.load_data()\n",
    "N = 100\n",
    "CLS_NUM = 3\n",
    "markers = ['o', 'x', '^']\n",
    "for i in range(CLS_NUM):\n",
    "    plt.scatter(x[i*N:(i+1)*N, 0], x[i*N:(i+1)*N, 1], s=40, marker=markers[i])\n",
    "plt.show()"
   ]
  },
  {
   "cell_type": "markdown",
   "metadata": {},
   "source": [
    "## 1.4.4 Trainer Class"
   ]
  },
  {
   "cell_type": "code",
   "execution_count": 41,
   "metadata": {},
   "outputs": [],
   "source": [
    "import time"
   ]
  },
  {
   "cell_type": "code",
   "execution_count": 42,
   "metadata": {},
   "outputs": [],
   "source": [
    "def remove_duplicate(params, grads):\n",
    "    params, grads = params[:], grads[:]  \n",
    "\n",
    "    while True:\n",
    "        find_flg = False\n",
    "        L = len(params)\n",
    "\n",
    "        for i in range(0, L - 1):\n",
    "            for j in range(i + 1, L):\n",
    "                if params[i] is params[j]:\n",
    "                    grads[i] += grads[j]  \n",
    "                    find_flg = True\n",
    "                    params.pop(j)\n",
    "                    grads.pop(j)\n",
    "                elif params[i].ndim == 2 and params[j].ndim == 2 and \\\n",
    "                     params[i].T.shape == params[j].shape and np.all(params[i].T == params[j]):\n",
    "                    grads[i] += grads[j].T\n",
    "                    find_flg = True\n",
    "                    params.pop(j)\n",
    "                    grads.pop(j)\n",
    "\n",
    "                if find_flg: break\n",
    "            if find_flg: break\n",
    "\n",
    "        if not find_flg: break\n",
    "\n",
    "    return params, grads"
   ]
  },
  {
   "cell_type": "code",
   "execution_count": 43,
   "metadata": {},
   "outputs": [],
   "source": [
    "class Trainer:\n",
    "    def __init__(self, model, optimizer):\n",
    "        self.model = model\n",
    "        self.optimizer = optimizer\n",
    "        self.loss_list = []\n",
    "        self.eval_interval = None\n",
    "        self.current_epoch = 0\n",
    "\n",
    "    def fit(self, x, t, max_epoch=10, batch_size=32, max_grad=None, eval_interval=20):\n",
    "        data_size = len(x)\n",
    "        max_iters = data_size // batch_size\n",
    "        self.eval_interval = eval_interval\n",
    "        model, optimizer = self.model, self.optimizer\n",
    "        total_loss = 0\n",
    "        loss_count = 0\n",
    "\n",
    "        start_time = time.time()\n",
    "        for epoch in range(max_epoch):\n",
    "            if epoch % 10 == 0:\n",
    "                idx = np.random.permutation(np.arange(data_size))\n",
    "                x = x[idx]\n",
    "                t = t[idx]\n",
    "\n",
    "                for iters in range(max_iters):\n",
    "                    batch_x = x[iters*batch_size:(iters+1)*batch_size]\n",
    "                    batch_t = t[iters*batch_size:(iters+1)*batch_size]\n",
    "\n",
    "                    loss = model.forward(batch_x, batch_t)\n",
    "                    model.backward()\n",
    "                    params, grads = remove_duplicate(model.params, model.grads)\n",
    "                    if max_grad is not None:\n",
    "                        clip_grads(grads, max_grad)\n",
    "                    optimizer.update(params, grads)\n",
    "                    total_loss += loss\n",
    "                    loss_count += 1\n",
    "\n",
    "                    if (eval_interval is not None) and (iters % eval_interval) == 0:\n",
    "                        avg_loss = total_loss / loss_count\n",
    "                        elapsed_time = time.time() - start_time\n",
    "#                         print('| epoch %d |  iter %d / %d | time %d[s] | loss %.2f' % (self.current_epoch + 1, iters + 1, max_iters, elapsed_time, avg_loss))\n",
    "                        print('| epoch {:<5} |  iter {} / {:<5} | time {:<25} | loss {}'.format(self.current_epoch + 1, iters + 1, max_iters, elapsed_time, avg_loss))\n",
    "                        self.loss_list.append(float(avg_loss))\n",
    "                        total_loss = 0\n",
    "                        loss_count = 0\n",
    "\n",
    "                self.current_epoch += 1\n",
    "            \n",
    "    def plot(self, ylim=None):\n",
    "        x = np.arange(len(self.loss_list))\n",
    "        if ylim is not None:\n",
    "            plt.ylim(*ylim)\n",
    "        plt.plot(x, self.loss_list, label='train')\n",
    "        plt.xlabel('iterations (x' + str(self.eval_interval) + ')')\n",
    "        plt.ylabel('loss')\n",
    "        plt.show()"
   ]
  },
  {
   "cell_type": "code",
   "execution_count": 44,
   "metadata": {},
   "outputs": [
    {
     "name": "stdout",
     "output_type": "stream",
     "text": [
      "| epoch 1     |  iter 1 / 10    | time 0.0008478164672851562     | loss 1.0997713661372568\n",
      "| epoch 2     |  iter 1 / 10    | time 0.007235050201416016      | loss 1.1228995094325227\n",
      "| epoch 3     |  iter 1 / 10    | time 0.012418985366821289      | loss 1.1120204058284702\n",
      "| epoch 4     |  iter 1 / 10    | time 0.016974210739135742      | loss 1.1806729395302684\n",
      "| epoch 5     |  iter 1 / 10    | time 0.025200843811035156      | loss 1.1215036349885739\n",
      "| epoch 6     |  iter 1 / 10    | time 0.030220985412597656      | loss 1.135255374085502\n",
      "| epoch 7     |  iter 1 / 10    | time 0.03314495086669922       | loss 1.1408739707165618\n",
      "| epoch 8     |  iter 1 / 10    | time 0.036663055419921875      | loss 1.1256009426258469\n",
      "| epoch 9     |  iter 1 / 10    | time 0.03924989700317383       | loss 1.166718477782282\n",
      "| epoch 10    |  iter 1 / 10    | time 0.04325985908508301       | loss 1.1153724996622505\n",
      "| epoch 11    |  iter 1 / 10    | time 0.047477006912231445      | loss 1.109044150931421\n",
      "| epoch 12    |  iter 1 / 10    | time 0.05370187759399414       | loss 1.1237638064865034\n",
      "| epoch 13    |  iter 1 / 10    | time 0.05661296844482422       | loss 1.1029982700522525\n",
      "| epoch 14    |  iter 1 / 10    | time 0.05990004539489746       | loss 1.0980053961992586\n",
      "| epoch 15    |  iter 1 / 10    | time 0.06494498252868652       | loss 1.0676550920466712\n",
      "| epoch 16    |  iter 1 / 10    | time 0.06837797164916992       | loss 1.036155936299201\n",
      "| epoch 17    |  iter 1 / 10    | time 0.07250475883483887       | loss 0.9714743403989953\n",
      "| epoch 18    |  iter 1 / 10    | time 0.07604408264160156       | loss 0.9366431656885268\n",
      "| epoch 19    |  iter 1 / 10    | time 0.07871603965759277       | loss 0.9049456283255779\n",
      "| epoch 20    |  iter 1 / 10    | time 0.0820307731628418        | loss 0.8946486166752324\n",
      "| epoch 21    |  iter 1 / 10    | time 0.08485102653503418       | loss 0.8353433808577314\n",
      "| epoch 22    |  iter 1 / 10    | time 0.08822393417358398       | loss 0.8416860732315758\n",
      "| epoch 23    |  iter 1 / 10    | time 0.09097695350646973       | loss 0.8166653644281802\n",
      "| epoch 24    |  iter 1 / 10    | time 0.09386396408081055       | loss 0.8022339409576107\n",
      "| epoch 25    |  iter 1 / 10    | time 0.09689497947692871       | loss 0.8250761381390015\n",
      "| epoch 26    |  iter 1 / 10    | time 0.09959983825683594       | loss 0.7830198817150775\n",
      "| epoch 27    |  iter 1 / 10    | time 0.10228681564331055       | loss 0.8056292200878632\n",
      "| epoch 28    |  iter 1 / 10    | time 0.10503411293029785       | loss 0.7977964129538733\n",
      "| epoch 29    |  iter 1 / 10    | time 0.10823607444763184       | loss 0.7596671901296956\n",
      "| epoch 30    |  iter 1 / 10    | time 0.11056375503540039       | loss 0.7901714107028301\n"
     ]
    },
    {
     "data": {
      "image/png": "[encoded data removed]",
      "text/plain": [
       "<Figure size 432x288 with 1 Axes>"
      ]
     },
     "metadata": {
      "needs_background": "light"
     },
     "output_type": "display_data"
    }
   ],
   "source": [
    "max_epoch = 300\n",
    "batch_size = 30\n",
    "hidden_size = 10\n",
    "learning_rate = 1.0\n",
    "\n",
    "x, t = spiral.load_data()\n",
    "model = TwoLayerNet(input_size=2, hidden_size=hidden_size, output_size=3)\n",
    "optimizer = SGD(lr=learning_rate)\n",
    "\n",
    "trainer = Trainer(model, optimizer)\n",
    "trainer.fit(x, t, max_epoch, batch_size, eval_interval=10)\n",
    "trainer.plot()"
   ]
  },
  {
   "cell_type": "markdown",
   "metadata": {},
   "source": [
    "# 1.5 High Speed Computing "
   ]
  },
  {
   "cell_type": "markdown",
   "metadata": {},
   "source": [
    "## 1.5.1  Floating-Point"
   ]
  },
  {
   "cell_type": "code",
   "execution_count": 45,
   "metadata": {},
   "outputs": [
    {
     "name": "stdout",
     "output_type": "stream",
     "text": [
      "float64\n"
     ]
    }
   ],
   "source": [
    "a = np.random.randn(0)\n",
    "print(a.dtype)"
   ]
  },
  {
   "cell_type": "code",
   "execution_count": 46,
   "metadata": {},
   "outputs": [
    {
     "name": "stdout",
     "output_type": "stream",
     "text": [
      "float32\n"
     ]
    }
   ],
   "source": [
    "b = np.random.randn(0).astype(np.float32)\n",
    "print(b.dtype)"
   ]
  },
  {
   "cell_type": "code",
   "execution_count": 47,
   "metadata": {},
   "outputs": [
    {
     "name": "stdout",
     "output_type": "stream",
     "text": [
      "float16\n"
     ]
    }
   ],
   "source": [
    "c = np.random.randn(0).astype(np.float16)\n",
    "print(c.dtype)"
   ]
  },
  {
   "cell_type": "code",
   "execution_count": 48,
   "metadata": {},
   "outputs": [
    {
     "name": "stdout",
     "output_type": "stream",
     "text": [
      "float128\n"
     ]
    }
   ],
   "source": [
    "d = np.random.randn(0).astype(np.float128)\n",
    "print(d.dtype)"
   ]
  },
  {
   "cell_type": "markdown",
   "metadata": {},
   "source": [
    "## 1.5.2 GPU"
   ]
  },
  {
   "cell_type": "code",
   "execution_count": 49,
   "metadata": {},
   "outputs": [],
   "source": [
    "# import cupy as cp\n",
    "# from common import config\n",
    "# config.GPU = True"
   ]
  },
  {
   "cell_type": "code",
   "execution_count": null,
   "metadata": {},
   "outputs": [],
   "source": []
  }
 ],
 "metadata": {
  "kernelspec": {
   "display_name": "Python 3",
   "language": "python",
   "name": "python3"
  },
  "language_info": {
   "codemirror_mode": {
    "name": "ipython",
    "version": 3
   },
   "file_extension": ".py",
   "mimetype": "text/x-python",
   "name": "python",
   "nbconvert_exporter": "python",
   "pygments_lexer": "ipython3",
   "version": "3.6.9"
  }
 },
 "nbformat": 4,
 "nbformat_minor": 2
}
