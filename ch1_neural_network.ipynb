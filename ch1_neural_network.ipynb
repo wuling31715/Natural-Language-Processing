{
 "cells": [
  {
   "cell_type": "markdown",
   "metadata": {},
   "source": [
    "# 1.1 Numpy"
   ]
  },
  {
   "cell_type": "markdown",
   "metadata": {},
   "source": [
    "## 1.1.1 Array"
   ]
  },
  {
   "cell_type": "code",
   "execution_count": 1,
   "metadata": {},
   "outputs": [],
   "source": [
    "import numpy as np"
   ]
  },
  {
   "cell_type": "code",
   "execution_count": 2,
   "metadata": {},
   "outputs": [
    {
     "name": "stdout",
     "output_type": "stream",
     "text": [
      "<class 'numpy.ndarray'>\n",
      "(10,)\n",
      "1\n"
     ]
    }
   ],
   "source": [
    "x = np.array([i for i in range(10)])\n",
    "print(x.__class__)\n",
    "print(x.shape)\n",
    "print(x.ndim)"
   ]
  },
  {
   "cell_type": "code",
   "execution_count": 3,
   "metadata": {},
   "outputs": [
    {
     "name": "stdout",
     "output_type": "stream",
     "text": [
      "(2, 10)\n",
      "2\n"
     ]
    }
   ],
   "source": [
    "W = np.array([[i for i in range(10)], [i for i in range(10)]])\n",
    "print(W.shape)\n",
    "print(W.ndim)"
   ]
  },
  {
   "cell_type": "markdown",
   "metadata": {},
   "source": [
    "## 1.1.2 Element Wise"
   ]
  },
  {
   "cell_type": "code",
   "execution_count": 4,
   "metadata": {},
   "outputs": [
    {
     "name": "stdout",
     "output_type": "stream",
     "text": [
      "[[1 2 3]\n",
      " [5 6 7]]\n",
      "[[-1 -2 -3]\n",
      " [-3 -4 -5]]\n",
      "[[0 0 0]\n",
      " [4 5 6]]\n",
      "[[0.         0.         0.        ]\n",
      " [0.25       0.2        0.16666667]]\n",
      "[[0 0 0]\n",
      " [0 0 0]]\n",
      "[[inf inf inf]\n",
      " [ 4.  5.  6.]]\n"
     ]
    },
    {
     "name": "stderr",
     "output_type": "stream",
     "text": [
      "/Users/wuling31715/opt/anaconda3/lib/python3.6/site-packages/ipykernel_launcher.py:8: RuntimeWarning: divide by zero encountered in true_divide\n",
      "  \n"
     ]
    }
   ],
   "source": [
    "W = np.array([[0, 0, 0], [1, 1, 1]])\n",
    "X = np.array([[1, 2, 3], [4, 5, 6]])\n",
    "print(W + X)\n",
    "print(W - X)\n",
    "print(W * X)\n",
    "print(W / X)\n",
    "print(W // X)\n",
    "print(X / W)"
   ]
  },
  {
   "cell_type": "markdown",
   "metadata": {},
   "source": [
    "## 1.1.3 Broadcast"
   ]
  },
  {
   "cell_type": "code",
   "execution_count": 5,
   "metadata": {},
   "outputs": [
    {
     "name": "stdout",
     "output_type": "stream",
     "text": [
      "[[10 11]\n",
      " [12 13]]\n",
      "[[ 0 10]\n",
      " [20 30]]\n"
     ]
    }
   ],
   "source": [
    "A = np.array([[0, 1], [2, 3]])\n",
    "print(A + 10)\n",
    "print(A * 10)"
   ]
  },
  {
   "cell_type": "code",
   "execution_count": 6,
   "metadata": {},
   "outputs": [
    {
     "name": "stdout",
     "output_type": "stream",
     "text": [
      "[[10 21]\n",
      " [12 23]]\n",
      "[[ 0 20]\n",
      " [20 60]]\n"
     ]
    }
   ],
   "source": [
    "b = np.array([10, 20])\n",
    "print(A + b)\n",
    "print(A * b)"
   ]
  },
  {
   "cell_type": "markdown",
   "metadata": {},
   "source": [
    "## 1.1.4 Dot"
   ]
  },
  {
   "cell_type": "code",
   "execution_count": 7,
   "metadata": {},
   "outputs": [
    {
     "name": "stdout",
     "output_type": "stream",
     "text": [
      "32\n"
     ]
    }
   ],
   "source": [
    "a = np.array([1, 2, 3])\n",
    "b = np.array([4, 5, 6])\n",
    "print(np.dot(a, b))"
   ]
  },
  {
   "cell_type": "code",
   "execution_count": 8,
   "metadata": {},
   "outputs": [
    {
     "name": "stdout",
     "output_type": "stream",
     "text": [
      "[32]\n"
     ]
    }
   ],
   "source": [
    "b = np.array([[4], [5], [6]])\n",
    "print(np.dot(a, b))"
   ]
  },
  {
   "cell_type": "code",
   "execution_count": 9,
   "metadata": {},
   "outputs": [
    {
     "name": "stdout",
     "output_type": "stream",
     "text": [
      "[[1 2]\n",
      " [3 4]]\n"
     ]
    }
   ],
   "source": [
    "A = np.array([[1, 2], [3, 4]])\n",
    "B = np.array([[1, 0], [0, 1]])\n",
    "print(np.dot(A, B))"
   ]
  },
  {
   "cell_type": "markdown",
   "metadata": {},
   "source": [
    "## 1.1.5 Shape"
   ]
  },
  {
   "cell_type": "code",
   "execution_count": 10,
   "metadata": {},
   "outputs": [
    {
     "name": "stdout",
     "output_type": "stream",
     "text": [
      "[[ 4  8 12]\n",
      " [ 5 10 15]\n",
      " [ 6 12 18]]\n",
      "(3, 3)\n"
     ]
    }
   ],
   "source": [
    "a = np.array([1, 2, 3])\n",
    "b = np.array([[4], [5], [6]])\n",
    "c = a * b # Broadcast\n",
    "print(c)\n",
    "print(c.shape)"
   ]
  },
  {
   "cell_type": "code",
   "execution_count": 11,
   "metadata": {},
   "outputs": [
    {
     "name": "stdout",
     "output_type": "stream",
     "text": [
      "[32]\n",
      "(1,)\n"
     ]
    }
   ],
   "source": [
    "d = np.dot(a, b) # Dot\n",
    "print(d)\n",
    "print(d.shape)"
   ]
  },
  {
   "cell_type": "markdown",
   "metadata": {},
   "source": [
    "# 1.2 Theory of Neural Network"
   ]
  },
  {
   "cell_type": "markdown",
   "metadata": {},
   "source": [
    "## 1.2.1 Concept of Neural Network"
   ]
  },
  {
   "cell_type": "code",
   "execution_count": 12,
   "metadata": {},
   "outputs": [],
   "source": [
    "def sigmoid(x):\n",
    "    return 1 / (1+np.exp(-x))"
   ]
  },
  {
   "cell_type": "code",
   "execution_count": 13,
   "metadata": {},
   "outputs": [
    {
     "name": "stdout",
     "output_type": "stream",
     "text": [
      "x:\n",
      "[[-0.10902493 -1.18328913]\n",
      " [ 0.53702433 -0.39854397]\n",
      " [-0.48360479 -2.68484645]\n",
      " [-0.21476524  0.89463263]\n",
      " [ 0.50923127  0.25887298]\n",
      " [-0.37989214  0.27841572]\n",
      " [-0.43938412 -0.24956396]\n",
      " [-0.41270945 -0.71083544]\n",
      " [ 0.32391035 -0.37285778]\n",
      " [-1.5052909   1.0003075 ]]\n",
      "\n",
      "W1:\n",
      "[[-0.63373603 -0.08766833 -1.30378141 -0.00965526]\n",
      " [-0.836911    0.60756915  0.63021141 -0.67363184]]\n",
      "\n",
      "b1:\n",
      "[-0.20526216  1.42704184 -1.22486174  0.07637015]\n",
      "\n",
      "h:\n",
      "[[ 0.85413856  0.71766991 -1.82843938  0.87452405]\n",
      " [-0.21204799  1.13781879 -2.17619103  0.33965695]\n",
      " [ 2.34819315 -0.1617912  -2.28636768  1.88963754]\n",
      " [-0.81788557  1.98942114 -0.38104712 -0.52420926]\n",
      " [-0.74463401  1.53968162 -1.72564329 -0.10293169]\n",
      " [-0.19752     1.62950315 -0.55410467 -0.10751158]\n",
      " [ 0.28205421  1.31393455 -0.80927895  0.24872675]\n",
      " [ 0.65119269  1.03134171 -1.13475544  0.55919636]\n",
      " [-0.09848704  1.17210828 -1.88214927  0.32441159]\n",
      " [-0.08847342  2.16676416  1.36811375 -0.58293485]]\n",
      "\n",
      "a:\n",
      "[[0.70143458 0.67209371 0.13842429 0.70568619]\n",
      " [0.44718575 0.75727894 0.10190901 0.58410719]\n",
      " [0.9127905  0.4596402  0.09225829 0.8687142 ]\n",
      " [0.30621268 0.87968188 0.40587437 0.3718685 ]\n",
      " [0.32199165 0.82341844 0.1511457  0.47428977]\n",
      " [0.45077992 0.83610156 0.36491262 0.47314796]\n",
      " [0.57004977 0.7881708  0.30804417 0.56186309]\n",
      " [0.65727918 0.73717593 0.24328457 0.63626657]\n",
      " [0.47539812 0.76352589 0.1321422  0.58039901]\n",
      " [0.47789606 0.89722497 0.79707523 0.35825756]]\n",
      "\n",
      "W2:\n",
      "[[ 0.98614255  0.73852384 -0.22522095]\n",
      " [-0.64340883  0.00947818  0.35163267]\n",
      " [-0.18372485 -0.5758743   1.06168291]\n",
      " [-1.36813823 -0.01575859 -1.57658035]]\n",
      "\n",
      "b2:\n",
      "[-1.91193108 -0.19146863 -0.69245231]\n",
      "\n",
      "s:\n",
      "[[-2.64355586  0.24209215 -1.57970824]\n",
      " [-2.77604474  0.07807486 -1.33958075]\n",
      " [-2.51299733  0.42018659 -2.00805602]\n",
      " [-2.75929353 -0.19657822 -0.60746361]\n",
      " [-2.8008593  -0.04038067 -1.06271788]\n",
      " [-2.71972828 -0.06823213 -0.85851105]\n",
      " [-2.68219854  0.05074826 -1.10246993]\n",
      " [-2.65326366  0.15080682 -1.32610452]\n",
      " [-2.75272394  0.08161749 -1.30579384]\n",
      " [-2.6545283  -0.29468771 -0.20317159]]\n",
      "\n"
     ]
    }
   ],
   "source": [
    "x = np.random.randn(10, 2) # 輸入\n",
    "W1 = np.random.randn(2, 4) # 權重\n",
    "b1 = np.random.randn(4) # 偏權值 \n",
    "h = np.dot(x, W1) + b1\n",
    "W2 = np.random.randn(4, 3) # 權重\n",
    "b2 = np.random.randn(3) # 偏權值 \n",
    "a = sigmoid(h)\n",
    "s = np.dot(a, W2) + b2\n",
    "print('x:\\n{}\\n'.format(x))\n",
    "print('W1:\\n{}\\n'.format(W1))\n",
    "print('b1:\\n{}\\n'.format(b1))\n",
    "print('h:\\n{}\\n'.format(h))\n",
    "print('a:\\n{}\\n'.format(a))\n",
    "print('W2:\\n{}\\n'.format(W2))\n",
    "print('b2:\\n{}\\n'.format(b2))\n",
    "print('s:\\n{}\\n'.format(s))"
   ]
  },
  {
   "cell_type": "markdown",
   "metadata": {},
   "source": [
    "## 1.2.2 Forward Propagation"
   ]
  },
  {
   "cell_type": "code",
   "execution_count": 14,
   "metadata": {},
   "outputs": [],
   "source": [
    "class Sigmoid:\n",
    "    def __init__(self):\n",
    "        self.params = list()\n",
    "        \n",
    "    def forward(self, x):\n",
    "        return 1 / (1+np.exp(-x))"
   ]
  },
  {
   "cell_type": "code",
   "execution_count": 15,
   "metadata": {},
   "outputs": [],
   "source": [
    "class Affine:\n",
    "    def __init__(self, W, b):\n",
    "        self.params = [W, b]\n",
    "        \n",
    "    def forward(self, x):\n",
    "        W, b = self.params\n",
    "        out = np.dot(x, W) + b\n",
    "        return out"
   ]
  },
  {
   "cell_type": "code",
   "execution_count": 16,
   "metadata": {},
   "outputs": [],
   "source": [
    "class TwoLayerNet:\n",
    "    def __init__(self, input_size, hidden_size, output_size):\n",
    "        # 初始化權重、偏移值\n",
    "        I, H, O = input_size, hidden_size, output_size        \n",
    "        W1 = np.random.randn(I, H)\n",
    "        b1 = np.random.randn(H)\n",
    "        W2 = np.random.randn(H, O)\n",
    "        b2 = np.random.randn(O)\n",
    "        # 連接各層神經網路\n",
    "        self.layers = [\n",
    "            Affine(W1, b1),\n",
    "            Sigmoid(),\n",
    "            Affine(W2, b2)\n",
    "        ]\n",
    "        # 儲存參數\n",
    "        self.params = list()\n",
    "        for layer in self.layers:\n",
    "            self.params += layer.params\n",
    "            \n",
    "    def predict(self, x):\n",
    "        for layer in self.layers:\n",
    "            x = layer.forward(x)\n",
    "        return x"
   ]
  },
  {
   "cell_type": "code",
   "execution_count": 17,
   "metadata": {},
   "outputs": [
    {
     "name": "stdout",
     "output_type": "stream",
     "text": [
      "x:\n",
      "[[ 0.18122376  1.50968581]\n",
      " [ 0.05897737  2.27987997]\n",
      " [-1.08906151 -0.70449369]\n",
      " [ 0.05485299  0.1109819 ]\n",
      " [-1.70110958 -1.05196525]\n",
      " [ 1.55405622  0.64690704]\n",
      " [-0.8667716  -0.3068677 ]\n",
      " [-1.20848185 -2.01184419]\n",
      " [-0.15153892 -0.34816285]\n",
      " [-0.38557372 -0.87434894]]\n",
      "\n",
      "s:\n",
      "[[ 1.07169617 -1.195476   -0.18140381]\n",
      " [ 0.81216049 -1.2471672  -0.20852234]\n",
      " [ 1.89870039 -0.7651228  -0.60428021]\n",
      " [ 1.53818275 -1.03208853 -0.2020218 ]\n",
      " [ 2.01677109 -0.67002042 -0.77866112]\n",
      " [ 1.24071943 -1.18900127  0.2000497 ]\n",
      " [ 1.78373297 -0.8442492  -0.54106641]\n",
      " [ 2.11255762 -0.59860074 -0.55126119]\n",
      " [ 1.68642184 -0.94712887 -0.26522424]\n",
      " [ 1.83719293 -0.84329367 -0.33464905]]\n",
      "\n"
     ]
    }
   ],
   "source": [
    "x = np.random.randn(10, 2)\n",
    "model = TwoLayerNet(2, 4, 3)\n",
    "s = model.predict(x)\n",
    "print('x:\\n{}\\n'.format(x))\n",
    "print('s:\\n{}\\n'.format(s))"
   ]
  },
  {
   "cell_type": "code",
   "execution_count": null,
   "metadata": {},
   "outputs": [],
   "source": []
  }
 ],
 "metadata": {
  "kernelspec": {
   "display_name": "Python 3",
   "language": "python",
   "name": "python3"
  },
  "language_info": {
   "codemirror_mode": {
    "name": "ipython",
    "version": 3
   },
   "file_extension": ".py",
   "mimetype": "text/x-python",
   "name": "python",
   "nbconvert_exporter": "python",
   "pygments_lexer": "ipython3",
   "version": "3.6.9"
  }
 },
 "nbformat": 4,
 "nbformat_minor": 2
}
