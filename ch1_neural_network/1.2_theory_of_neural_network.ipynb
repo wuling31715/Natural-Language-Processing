{
 "cells": [
  {
   "cell_type": "markdown",
   "metadata": {},
   "source": [
    "# 1.2.1 Concept of Neural Network"
   ]
  },
  {
   "cell_type": "code",
   "execution_count": 1,
   "metadata": {},
   "outputs": [],
   "source": [
    "import numpy as np"
   ]
  },
  {
   "cell_type": "code",
   "execution_count": 2,
   "metadata": {},
   "outputs": [],
   "source": [
    "def sigmoid(x):\n",
    "    return 1 / (1+np.exp(-x))"
   ]
  },
  {
   "cell_type": "code",
   "execution_count": 3,
   "metadata": {},
   "outputs": [
    {
     "name": "stdout",
     "output_type": "stream",
     "text": [
      "x:\n",
      "[[ 1.39364169  0.34525633]\n",
      " [ 0.08647562  0.41996989]\n",
      " [-0.23371686  0.48018946]\n",
      " [ 0.40490286  0.45149075]\n",
      " [ 0.51052378  1.10963402]\n",
      " [ 1.23912935  2.81313832]\n",
      " [ 0.46670756 -0.03635947]\n",
      " [-1.70524022 -1.31237287]\n",
      " [-0.54322253 -0.0386003 ]\n",
      " [ 1.35693     1.03510733]]\n",
      "\n",
      "W1:\n",
      "[[ 0.61740979 -0.31067968  1.21997204  0.57661626]\n",
      " [ 0.58411242  1.33650497 -0.42758114 -0.24510911]]\n",
      "\n",
      "b1:\n",
      "[ 1.32884912 -1.19555098 -1.06531337  0.91713032]\n",
      "\n",
      "h:\n",
      "[[ 2.39096566 -1.16709033  0.48726543  1.6361013 ]\n",
      " [ 1.62754964 -0.66112535 -1.13938674  0.86405512]\n",
      " [ 1.46503466 -0.48116429 -1.55576136  0.66466656]\n",
      " [ 1.84256146 -0.71792643 -0.76439213  1.03993939]\n",
      " [ 2.2922025   0.12887104 -0.91694721  0.93952522]\n",
      " [ 3.73708874  2.17925006 -0.7564551   0.9421066 ]\n",
      " [ 1.59576092 -1.38914215 -0.48039657  1.19515352]\n",
      " [-0.49055618 -2.41976034 -2.58451287  0.25553564]\n",
      " [ 0.97091129 -1.07837227 -1.7115249   0.61336067]\n",
      " [ 2.77125003 -0.23369547  0.14751092  1.44584397]]\n",
      "\n",
      "a:\n",
      "[[0.91613579 0.23738132 0.61946203 0.83700374]\n",
      " [0.83583369 0.34048686 0.24243297 0.70350719]\n",
      " [0.81230151 0.38197723 0.17425571 0.66030789]\n",
      " [0.86325137 0.32784976 0.31769345 0.73883831]\n",
      " [0.90822919 0.53217325 0.28558033 0.71900374]\n",
      " [0.97673099 0.89837062 0.3194164  0.71952499]\n",
      " [0.83142508 0.19954474 0.38215848 0.7676615 ]\n",
      " [0.37976255 0.08167823 0.07014182 0.56353854]\n",
      " [0.7253011  0.25381417 0.15296603 0.64870703]\n",
      " [0.94110231 0.44184058 0.53681101 0.80935799]]\n",
      "\n",
      "W2:\n",
      "[[ 0.91189524  0.54034322  0.41129601]\n",
      " [ 0.92171139 -0.22663805 -0.52183629]\n",
      " [-0.60821115  0.22518994 -1.47547153]\n",
      " [ 0.82695141 -0.305566    1.04475564]]\n",
      "\n",
      "b2:\n",
      "[-1.18334183 -0.55201301  0.90544115]\n",
      "\n",
      "s:\n",
      "[[ 0.18627282 -0.22704815  1.11883575]\n",
      " [ 0.32699737 -0.33791763  1.44882795]\n",
      " [ 0.34952308 -0.36218897  1.47295899]\n",
      " [ 0.32379452 -0.31408671  1.39256694]\n",
      " [ 0.5562662  -0.3372615   1.33110244]\n",
      " [ 0.93611253 -0.37578101  1.11880229]\n",
      " [ 0.16113911 -0.29649554  1.38142799]\n",
      " [-0.33839646 -0.52172526  1.50428111]\n",
      " [ 0.15541375 -0.38140182  1.52334845]\n",
      " [ 0.42489968 -0.27006048  1.11547629]]\n",
      "\n"
     ]
    }
   ],
   "source": [
    "x = np.random.randn(10, 2) # 輸入\n",
    "W1 = np.random.randn(2, 4) # 權重\n",
    "b1 = np.random.randn(4) # 偏權值 \n",
    "h = np.dot(x, W1) + b1\n",
    "W2 = np.random.randn(4, 3) # 權重\n",
    "b2 = np.random.randn(3) # 偏權值 \n",
    "a = sigmoid(h)\n",
    "s = np.dot(a, W2) + b2\n",
    "print('x:\\n{}\\n'.format(x))\n",
    "print('W1:\\n{}\\n'.format(W1))\n",
    "print('b1:\\n{}\\n'.format(b1))\n",
    "print('h:\\n{}\\n'.format(h))\n",
    "print('a:\\n{}\\n'.format(a))\n",
    "print('W2:\\n{}\\n'.format(W2))\n",
    "print('b2:\\n{}\\n'.format(b2))\n",
    "print('s:\\n{}\\n'.format(s))"
   ]
  },
  {
   "cell_type": "markdown",
   "metadata": {},
   "source": [
    "# 1.2.2 Forward Propagation"
   ]
  },
  {
   "cell_type": "code",
   "execution_count": 4,
   "metadata": {},
   "outputs": [],
   "source": [
    "import numpy as np"
   ]
  },
  {
   "cell_type": "code",
   "execution_count": 5,
   "metadata": {},
   "outputs": [],
   "source": [
    "class Sigmoid:\n",
    "    def __init__(self):\n",
    "        self.params = list()\n",
    "        \n",
    "    def forward(self, x):\n",
    "        return 1 / (1+np.exp(-x))"
   ]
  },
  {
   "cell_type": "code",
   "execution_count": 6,
   "metadata": {},
   "outputs": [],
   "source": [
    "class Affine:\n",
    "    def __init__(self, W, b):\n",
    "        self.params = [W, b]\n",
    "        \n",
    "    def forward(self, x):\n",
    "        W, b = self.params\n",
    "        out = np.dot(x, W) + b\n",
    "        return out"
   ]
  },
  {
   "cell_type": "code",
   "execution_count": 7,
   "metadata": {},
   "outputs": [],
   "source": [
    "class TwoLayerNet:\n",
    "    def __init__(self, input_size, hidden_size, output_size):\n",
    "        # 初始化權重、偏移值\n",
    "        I, H, O = input_size, hidden_size, output_size        \n",
    "        W1 = np.random.randn(I, H)\n",
    "        b1 = np.random.randn(H)\n",
    "        W2 = np.random.randn(H, O)\n",
    "        b2 = np.random.randn(O)\n",
    "        # 連接各層神經網路\n",
    "        self.layers = [\n",
    "            Affine(W1, b1),\n",
    "            Sigmoid(),\n",
    "            Affine(W2, b2)\n",
    "        ]\n",
    "        # 儲存參數\n",
    "        self.params = list()\n",
    "        for layer in self.layers:\n",
    "            self.params += layer.params\n",
    "            \n",
    "    def predict(self, x):\n",
    "        for layer in self.layers:\n",
    "            x = layer.forward(x)\n",
    "        return x"
   ]
  },
  {
   "cell_type": "code",
   "execution_count": 8,
   "metadata": {},
   "outputs": [
    {
     "name": "stdout",
     "output_type": "stream",
     "text": [
      "x:\n",
      "[[-0.62996816  0.67593066]\n",
      " [-0.45762297 -0.61162736]\n",
      " [ 0.72714269  0.80743892]\n",
      " [-1.34137246 -0.15494094]\n",
      " [-0.24104293  1.08510406]\n",
      " [-0.70534539 -0.41611903]\n",
      " [-1.29889352 -0.54765425]\n",
      " [ 2.81424675 -0.1745559 ]\n",
      " [ 0.18109439  0.39781567]\n",
      " [-0.19541212 -2.44379933]]\n",
      "\n",
      "s:\n",
      "[[ 0.30941915 -0.50620898 -0.51082974]\n",
      " [-0.29988855 -0.76299582 -0.98833604]\n",
      " [ 0.38909195 -0.48225835 -0.4205968 ]\n",
      " [-0.19030743 -0.72278351 -0.85958942]\n",
      " [ 0.53432735 -0.43878937 -0.38565153]\n",
      " [-0.24346898 -0.7420752  -0.93238929]\n",
      " [-0.37770097 -0.78040587 -0.96217517]\n",
      " [-0.09267602 -0.60172521 -0.55896688]\n",
      " [ 0.18076184 -0.53863275 -0.55236336]\n",
      " [-0.79251242 -0.79609131 -1.14802663]]\n",
      "\n"
     ]
    }
   ],
   "source": [
    "x = np.random.randn(10, 2)\n",
    "model = TwoLayerNet(2, 4, 3)\n",
    "s = model.predict(x)\n",
    "print('x:\\n{}\\n'.format(x))\n",
    "print('s:\\n{}\\n'.format(s))"
   ]
  },
  {
   "cell_type": "code",
   "execution_count": null,
   "metadata": {},
   "outputs": [],
   "source": []
  }
 ],
 "metadata": {
  "kernelspec": {
   "display_name": "Python 3",
   "language": "python",
   "name": "python3"
  },
  "language_info": {
   "codemirror_mode": {
    "name": "ipython",
    "version": 3
   },
   "file_extension": ".py",
   "mimetype": "text/x-python",
   "name": "python",
   "nbconvert_exporter": "python",
   "pygments_lexer": "ipython3",
   "version": "3.6.9"
  }
 },
 "nbformat": 4,
 "nbformat_minor": 2
}
